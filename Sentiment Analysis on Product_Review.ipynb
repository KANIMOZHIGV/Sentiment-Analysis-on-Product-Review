{
 "cells": [
  {
   "cell_type": "code",
   "execution_count": 2,
   "id": "9e4e6ac7",
   "metadata": {},
   "outputs": [],
   "source": [
    "import pandas as pd\n",
    "import numpy as np"
   ]
  },
  {
   "cell_type": "code",
   "execution_count": 3,
   "id": "ab4ffa5c",
   "metadata": {},
   "outputs": [],
   "source": [
    "import matplotlib.pyplot as plt\n",
    "import matplotlib as mpl\n",
    "import nltk.classify.util\n",
    "from sklearn.model_selection import train_test_split\n",
    "from sklearn.metrics import confusion_matrix\n",
    "from sklearn import metrics\n",
    "from sklearn.metrics import roc_curve, auc\n",
    "from nltk.classify import NaiveBayesClassifier\n",
    "import re\n",
    "import string\n",
    "import nltk\n",
    "%matplotlib inline"
   ]
  },
  {
   "cell_type": "code",
   "execution_count": 4,
   "id": "e1754099",
   "metadata": {},
   "outputs": [],
   "source": [
    "add = \"C:/Users/Kanimozhi/OneDrive/Desktop/Data Analytics/Dataset/1429_1.csv\"\n",
    "\n",
    "reviews = pd.read_csv(add,low_memory=False)\n",
    "reviews.columns = ['id', 'name', 'asins', 'brand', 'categories', 'keys', 'manufacturer','date', 'dateAdded', 'dateSeen',\n",
    "       'didPurchase', 'doRecommend', 'id','numHelpful', 'rating', 'sourceURLs','text', 'title', 'userCity',\n",
    "       'userProvince', 'username']"
   ]
  },
  {
   "cell_type": "code",
   "execution_count": 5,
   "id": "dbbc6ff0",
   "metadata": {},
   "outputs": [
    {
     "data": {
      "text/plain": [
       "id                 42\n",
       "name               48\n",
       "asins              41\n",
       "brand               6\n",
       "categories         41\n",
       "keys               42\n",
       "manufacturer        2\n",
       "date             1078\n",
       "dateAdded        1941\n",
       "dateSeen         3911\n",
       "didPurchase         1\n",
       "doRecommend         2\n",
       "id                  1\n",
       "numHelpful         97\n",
       "rating              5\n",
       "sourceURLs      11929\n",
       "text            34659\n",
       "title           19767\n",
       "userCity            0\n",
       "userProvince        0\n",
       "username        26789\n",
       "dtype: int64"
      ]
     },
     "execution_count": 5,
     "metadata": {},
     "output_type": "execute_result"
    }
   ],
   "source": [
    "reviews.nunique()"
   ]
  },
  {
   "cell_type": "code",
   "execution_count": 6,
   "id": "8bd30879",
   "metadata": {},
   "outputs": [
    {
     "data": {
      "text/plain": [
       "id                  0\n",
       "name             6760\n",
       "asins               2\n",
       "brand               0\n",
       "categories          0\n",
       "keys                0\n",
       "manufacturer        0\n",
       "date               39\n",
       "dateAdded       10621\n",
       "dateSeen            0\n",
       "didPurchase     34659\n",
       "doRecommend       594\n",
       "id              34659\n",
       "numHelpful        529\n",
       "rating             33\n",
       "sourceURLs          0\n",
       "text                1\n",
       "title               5\n",
       "userCity        34660\n",
       "userProvince    34660\n",
       "username            2\n",
       "dtype: int64"
      ]
     },
     "execution_count": 6,
     "metadata": {},
     "output_type": "execute_result"
    }
   ],
   "source": [
    "reviews.isnull().sum()"
   ]
  },
  {
   "cell_type": "code",
   "execution_count": 7,
   "id": "89212f07",
   "metadata": {},
   "outputs": [],
   "source": [
    "reviews.drop(labels=['didPurchase','id','userCity','userProvince'],axis=1,inplace=True)"
   ]
  },
  {
   "cell_type": "code",
   "execution_count": 8,
   "id": "c922f1d1",
   "metadata": {},
   "outputs": [
    {
     "data": {
      "text/plain": [
       "name             6760\n",
       "asins               2\n",
       "brand               0\n",
       "categories          0\n",
       "keys                0\n",
       "manufacturer        0\n",
       "date               39\n",
       "dateAdded       10621\n",
       "dateSeen            0\n",
       "doRecommend       594\n",
       "numHelpful        529\n",
       "rating             33\n",
       "sourceURLs          0\n",
       "text                1\n",
       "title               5\n",
       "username            2\n",
       "dtype: int64"
      ]
     },
     "execution_count": 8,
     "metadata": {},
     "output_type": "execute_result"
    }
   ],
   "source": [
    "reviews.isnull().sum()"
   ]
  },
  {
   "cell_type": "code",
   "execution_count": 9,
   "id": "19298b3a",
   "metadata": {},
   "outputs": [
    {
     "name": "stdout",
     "output_type": "stream",
     "text": [
      "rating      33\n",
      "text         1\n",
      "title        5\n",
      "username     2\n",
      "dtype: int64\n"
     ]
    },
    {
     "data": {
      "text/html": [
       "<div>\n",
       "<style scoped>\n",
       "    .dataframe tbody tr th:only-of-type {\n",
       "        vertical-align: middle;\n",
       "    }\n",
       "\n",
       "    .dataframe tbody tr th {\n",
       "        vertical-align: top;\n",
       "    }\n",
       "\n",
       "    .dataframe thead th {\n",
       "        text-align: right;\n",
       "    }\n",
       "</style>\n",
       "<table border=\"1\" class=\"dataframe\">\n",
       "  <thead>\n",
       "    <tr style=\"text-align: right;\">\n",
       "      <th></th>\n",
       "      <th>rating</th>\n",
       "      <th>text</th>\n",
       "      <th>title</th>\n",
       "      <th>username</th>\n",
       "    </tr>\n",
       "  </thead>\n",
       "  <tbody>\n",
       "    <tr>\n",
       "      <th>0</th>\n",
       "      <td>5.0</td>\n",
       "      <td>This product so far has not disappointed. My c...</td>\n",
       "      <td>Kindle</td>\n",
       "      <td>Adapter</td>\n",
       "    </tr>\n",
       "    <tr>\n",
       "      <th>1</th>\n",
       "      <td>5.0</td>\n",
       "      <td>great for beginner or experienced person. Boug...</td>\n",
       "      <td>very fast</td>\n",
       "      <td>truman</td>\n",
       "    </tr>\n",
       "    <tr>\n",
       "      <th>2</th>\n",
       "      <td>5.0</td>\n",
       "      <td>Inexpensive tablet for him to use and learn on...</td>\n",
       "      <td>Beginner tablet for our 9 year old son.</td>\n",
       "      <td>DaveZ</td>\n",
       "    </tr>\n",
       "    <tr>\n",
       "      <th>3</th>\n",
       "      <td>4.0</td>\n",
       "      <td>I've had my Fire HD 8 two weeks now and I love...</td>\n",
       "      <td>Good!!!</td>\n",
       "      <td>Shacks</td>\n",
       "    </tr>\n",
       "    <tr>\n",
       "      <th>4</th>\n",
       "      <td>5.0</td>\n",
       "      <td>I bought this for my grand daughter when she c...</td>\n",
       "      <td>Fantastic Tablet for kids</td>\n",
       "      <td>explore42</td>\n",
       "    </tr>\n",
       "  </tbody>\n",
       "</table>\n",
       "</div>"
      ],
      "text/plain": [
       "   rating                                               text  \\\n",
       "0     5.0  This product so far has not disappointed. My c...   \n",
       "1     5.0  great for beginner or experienced person. Boug...   \n",
       "2     5.0  Inexpensive tablet for him to use and learn on...   \n",
       "3     4.0  I've had my Fire HD 8 two weeks now and I love...   \n",
       "4     5.0  I bought this for my grand daughter when she c...   \n",
       "\n",
       "                                     title   username  \n",
       "0                                   Kindle    Adapter  \n",
       "1                                very fast     truman  \n",
       "2  Beginner tablet for our 9 year old son.      DaveZ  \n",
       "3                                  Good!!!     Shacks  \n",
       "4                Fantastic Tablet for kids  explore42  "
      ]
     },
     "execution_count": 9,
     "metadata": {},
     "output_type": "execute_result"
    }
   ],
   "source": [
    "permanent = reviews[['rating' , 'text' , 'title' , 'username']]\n",
    "print(permanent.isnull().sum()) #Checking for null values\n",
    "permanent.head()"
   ]
  },
  {
   "cell_type": "code",
   "execution_count": 10,
   "id": "b9eff03a",
   "metadata": {},
   "outputs": [
    {
     "data": {
      "text/html": [
       "<div>\n",
       "<style scoped>\n",
       "    .dataframe tbody tr th:only-of-type {\n",
       "        vertical-align: middle;\n",
       "    }\n",
       "\n",
       "    .dataframe tbody tr th {\n",
       "        vertical-align: top;\n",
       "    }\n",
       "\n",
       "    .dataframe thead th {\n",
       "        text-align: right;\n",
       "    }\n",
       "</style>\n",
       "<table border=\"1\" class=\"dataframe\">\n",
       "  <thead>\n",
       "    <tr style=\"text-align: right;\">\n",
       "      <th></th>\n",
       "      <th>rating</th>\n",
       "      <th>text</th>\n",
       "      <th>title</th>\n",
       "      <th>username</th>\n",
       "    </tr>\n",
       "  </thead>\n",
       "  <tbody>\n",
       "    <tr>\n",
       "      <th>2886</th>\n",
       "      <td>NaN</td>\n",
       "      <td>The Kindle is my first e-ink reader. I own an ...</td>\n",
       "      <td>Worth the money. Not perfect, but very very go...</td>\n",
       "      <td>Jeffrey Stanley</td>\n",
       "    </tr>\n",
       "    <tr>\n",
       "      <th>2887</th>\n",
       "      <td>NaN</td>\n",
       "      <td>I'm a first-time Kindle owner, so I have nothi...</td>\n",
       "      <td>I Wanted a Dedicated E-Reader, and That's What...</td>\n",
       "      <td>Matthew Coenen</td>\n",
       "    </tr>\n",
       "    <tr>\n",
       "      <th>2888</th>\n",
       "      <td>NaN</td>\n",
       "      <td>UPDATE NOVEMBER 2011:My review is now over a y...</td>\n",
       "      <td>Kindle vs. Nook (updated)</td>\n",
       "      <td>Ron Cronovich</td>\n",
       "    </tr>\n",
       "    <tr>\n",
       "      <th>2889</th>\n",
       "      <td>NaN</td>\n",
       "      <td>I'm a first-time Kindle owner, so I have nothi...</td>\n",
       "      <td>I Wanted a Dedicated E-Reader, and That's What...</td>\n",
       "      <td>Matthew Coenen</td>\n",
       "    </tr>\n",
       "    <tr>\n",
       "      <th>2890</th>\n",
       "      <td>NaN</td>\n",
       "      <td>I woke up to a nice surprise this morning: a n...</td>\n",
       "      <td>Not the perfect do-it-all device, but very clo...</td>\n",
       "      <td>C. Tipton</td>\n",
       "    </tr>\n",
       "  </tbody>\n",
       "</table>\n",
       "</div>"
      ],
      "text/plain": [
       "      rating                                               text  \\\n",
       "2886     NaN  The Kindle is my first e-ink reader. I own an ...   \n",
       "2887     NaN  I'm a first-time Kindle owner, so I have nothi...   \n",
       "2888     NaN  UPDATE NOVEMBER 2011:My review is now over a y...   \n",
       "2889     NaN  I'm a first-time Kindle owner, so I have nothi...   \n",
       "2890     NaN  I woke up to a nice surprise this morning: a n...   \n",
       "\n",
       "                                                  title         username  \n",
       "2886  Worth the money. Not perfect, but very very go...  Jeffrey Stanley  \n",
       "2887  I Wanted a Dedicated E-Reader, and That's What...   Matthew Coenen  \n",
       "2888                          Kindle vs. Nook (updated)    Ron Cronovich  \n",
       "2889  I Wanted a Dedicated E-Reader, and That's What...   Matthew Coenen  \n",
       "2890  Not the perfect do-it-all device, but very clo...        C. Tipton  "
      ]
     },
     "execution_count": 10,
     "metadata": {},
     "output_type": "execute_result"
    }
   ],
   "source": [
    "check =  permanent[permanent[\"rating\"].isnull()]\n",
    "check.head()"
   ]
  },
  {
   "cell_type": "code",
   "execution_count": 11,
   "id": "de1d5027",
   "metadata": {},
   "outputs": [
    {
     "data": {
      "text/html": [
       "<div>\n",
       "<style scoped>\n",
       "    .dataframe tbody tr th:only-of-type {\n",
       "        vertical-align: middle;\n",
       "    }\n",
       "\n",
       "    .dataframe tbody tr th {\n",
       "        vertical-align: top;\n",
       "    }\n",
       "\n",
       "    .dataframe thead th {\n",
       "        text-align: right;\n",
       "    }\n",
       "</style>\n",
       "<table border=\"1\" class=\"dataframe\">\n",
       "  <thead>\n",
       "    <tr style=\"text-align: right;\">\n",
       "      <th></th>\n",
       "      <th>rating</th>\n",
       "      <th>text</th>\n",
       "      <th>title</th>\n",
       "      <th>username</th>\n",
       "    </tr>\n",
       "  </thead>\n",
       "  <tbody>\n",
       "    <tr>\n",
       "      <th>0</th>\n",
       "      <td>5.0</td>\n",
       "      <td>This product so far has not disappointed. My c...</td>\n",
       "      <td>Kindle</td>\n",
       "      <td>Adapter</td>\n",
       "    </tr>\n",
       "    <tr>\n",
       "      <th>1</th>\n",
       "      <td>5.0</td>\n",
       "      <td>great for beginner or experienced person. Boug...</td>\n",
       "      <td>very fast</td>\n",
       "      <td>truman</td>\n",
       "    </tr>\n",
       "    <tr>\n",
       "      <th>2</th>\n",
       "      <td>5.0</td>\n",
       "      <td>Inexpensive tablet for him to use and learn on...</td>\n",
       "      <td>Beginner tablet for our 9 year old son.</td>\n",
       "      <td>DaveZ</td>\n",
       "    </tr>\n",
       "    <tr>\n",
       "      <th>3</th>\n",
       "      <td>4.0</td>\n",
       "      <td>I've had my Fire HD 8 two weeks now and I love...</td>\n",
       "      <td>Good!!!</td>\n",
       "      <td>Shacks</td>\n",
       "    </tr>\n",
       "    <tr>\n",
       "      <th>4</th>\n",
       "      <td>5.0</td>\n",
       "      <td>I bought this for my grand daughter when she c...</td>\n",
       "      <td>Fantastic Tablet for kids</td>\n",
       "      <td>explore42</td>\n",
       "    </tr>\n",
       "  </tbody>\n",
       "</table>\n",
       "</div>"
      ],
      "text/plain": [
       "   rating                                               text  \\\n",
       "0     5.0  This product so far has not disappointed. My c...   \n",
       "1     5.0  great for beginner or experienced person. Boug...   \n",
       "2     5.0  Inexpensive tablet for him to use and learn on...   \n",
       "3     4.0  I've had my Fire HD 8 two weeks now and I love...   \n",
       "4     5.0  I bought this for my grand daughter when she c...   \n",
       "\n",
       "                                     title   username  \n",
       "0                                   Kindle    Adapter  \n",
       "1                                very fast     truman  \n",
       "2  Beginner tablet for our 9 year old son.      DaveZ  \n",
       "3                                  Good!!!     Shacks  \n",
       "4                Fantastic Tablet for kids  explore42  "
      ]
     },
     "execution_count": 11,
     "metadata": {},
     "output_type": "execute_result"
    }
   ],
   "source": [
    "senti= permanent[permanent[\"rating\"].notnull()]\n",
    "permanent.head()"
   ]
  },
  {
   "cell_type": "code",
   "execution_count": 12,
   "id": "3a15e2a7",
   "metadata": {},
   "outputs": [
    {
     "name": "stderr",
     "output_type": "stream",
     "text": [
      "C:\\Users\\KANIMO~1\\AppData\\Local\\Temp/ipykernel_18688/962468938.py:1: SettingWithCopyWarning: \n",
      "A value is trying to be set on a copy of a slice from a DataFrame.\n",
      "Try using .loc[row_indexer,col_indexer] = value instead\n",
      "\n",
      "See the caveats in the documentation: https://pandas.pydata.org/pandas-docs/stable/user_guide/indexing.html#returning-a-view-versus-a-copy\n",
      "  senti[\"senti\"] = senti[\"rating\"]>=4\n",
      "C:\\Users\\KANIMO~1\\AppData\\Local\\Temp/ipykernel_18688/962468938.py:2: SettingWithCopyWarning: \n",
      "A value is trying to be set on a copy of a slice from a DataFrame.\n",
      "Try using .loc[row_indexer,col_indexer] = value instead\n",
      "\n",
      "See the caveats in the documentation: https://pandas.pydata.org/pandas-docs/stable/user_guide/indexing.html#returning-a-view-versus-a-copy\n",
      "  senti[\"senti\"] = senti[\"senti\"].replace([True , False] , [\"pos\" , \"neg\"])\n"
     ]
    }
   ],
   "source": [
    "senti[\"senti\"] = senti[\"rating\"]>=4\n",
    "senti[\"senti\"] = senti[\"senti\"].replace([True , False] , [\"pos\" , \"neg\"])"
   ]
  },
  {
   "cell_type": "code",
   "execution_count": 13,
   "id": "00cab176",
   "metadata": {},
   "outputs": [
    {
     "name": "stdout",
     "output_type": "stream",
     "text": [
      "Total ratings : 34658\n",
      "Total users : 26789\n",
      "Users giving bulk ratings (more than 10) : 146\n",
      "Bulk ratings : 3160\n",
      "Populations of bulk ratings : 9.117664031392463\n",
      "Populations of bulk users : 0.5449998133562283\n"
     ]
    },
    {
     "data": {
      "text/plain": [
       "<AxesSubplot:title={'center':'Ratings Per User'}, ylabel='username'>"
      ]
     },
     "execution_count": 13,
     "metadata": {},
     "output_type": "execute_result"
    },
    {
     "data": {
      "image/png": "[encoded data removed]",
      "text/plain": [
       "<Figure size 720x720 with 1 Axes>"
      ]
     },
     "metadata": {},
     "output_type": "display_data"
    }
   ],
   "source": [
    "rating_perperson=reviews.username.value_counts()\n",
    "#ratings \n",
    "print (\"Total ratings : \" + str(sum(rating_perperson)))\n",
    "print (\"Total users : \" + str(len(rating_perperson)))\n",
    "print(\"Users giving bulk ratings (more than 10) : \" + str(sum(rating_perperson >10)))\n",
    "bulk = rating_perperson[rating_perperson >10]\n",
    "bulk_rating = sum(bulk)\n",
    "print (\"Bulk ratings : \" + str(bulk_rating))\n",
    "print (\"Populations of bulk ratings : \" + str(bulk_rating*100/sum(rating_perperson)))\n",
    "print (\"Populations of bulk users : \" + str(sum(rating_perperson >10)*100/len(rating_perperson)))\n",
    "rating_perperson.value_counts().plot(kind='pie',figsize=(10,10), title='Ratings Per User')"
   ]
  },
  {
   "cell_type": "code",
   "execution_count": 14,
   "id": "599aeaac",
   "metadata": {},
   "outputs": [
    {
     "name": "stdout",
     "output_type": "stream",
     "text": [
      "[<AxesSubplot:title={'center':'0'}> <AxesSubplot:title={'center':'1'}>]\n",
      "count    3158.000000\n",
      "mean        4.593414\n",
      "std         0.732940\n",
      "min         1.000000\n",
      "25%         4.000000\n",
      "50%         5.000000\n",
      "75%         5.000000\n",
      "max         5.000000\n",
      "Name: rating, dtype: float64\n",
      "count    31469.000000\n",
      "mean         4.583686\n",
      "std          0.735930\n",
      "min          1.000000\n",
      "25%          4.000000\n",
      "50%          5.000000\n",
      "75%          5.000000\n",
      "max          5.000000\n",
      "Name: rating, dtype: float64\n"
     ]
    },
    {
     "data": {
      "image/png": "[encoded data removed]",
      "text/plain": [
       "<Figure size 432x288 with 2 Axes>"
      ]
     },
     "metadata": {
      "needs_background": "light"
     },
     "output_type": "display_data"
    }
   ],
   "source": [
    "reviews['bulk']= reviews['username'].apply(lambda x : 1 if x in bulk.index else 0)\n",
    "#gives us the category whether a rating is bulk or not\n",
    "from matplotlib import pyplot\n",
    "#series.hist(by=series)\n",
    "print(reviews.rating.hist(by=reviews.bulk))\n",
    "print(reviews[reviews.bulk==1].rating.describe())\n",
    "print(reviews[reviews.bulk==0].rating.describe())"
   ]
  },
  {
   "cell_type": "code",
   "execution_count": 15,
   "id": "01c0d57e",
   "metadata": {},
   "outputs": [
    {
     "name": "stdout",
     "output_type": "stream",
     "text": [
      "*** Rating distribution ***\n",
      "5.0    23775\n",
      "4.0     8541\n",
      "3.0     1499\n",
      "1.0      410\n",
      "2.0      402\n",
      "Name: rating, dtype: int64\n"
     ]
    },
    {
     "data": {
      "text/plain": [
       "<AxesSubplot:title={'center':'Amazon customer ratings'}>"
      ]
     },
     "execution_count": 15,
     "metadata": {},
     "output_type": "execute_result"
    },
    {
     "data": {
      "image/png": "[encoded data removed]",
      "text/plain": [
       "<Figure size 432x432 with 1 Axes>"
      ]
     },
     "metadata": {
      "needs_background": "light"
     },
     "output_type": "display_data"
    }
   ],
   "source": [
    "from matplotlib import pyplot\n",
    "%matplotlib inline\n",
    "\n",
    "star = reviews.rating.value_counts()\n",
    "print(\"*** Rating distribution ***\")\n",
    "print(star)\n",
    "star.sort_index(inplace=True)\n",
    "star.plot(kind='bar',title='Amazon customer ratings',figsize=(6,6),style='Solarize_Light2')"
   ]
  },
  {
   "cell_type": "code",
   "execution_count": 16,
   "id": "fe9c84d3",
   "metadata": {},
   "outputs": [
    {
     "name": "stdout",
     "output_type": "stream",
     "text": [
      " NPS score of Amazon is : 61.99\n"
     ]
    }
   ],
   "source": [
    "NPS_score = round (100*((star.loc[5])-sum(star.loc[1:3]))/sum(star.loc[:]),2)\n",
    "print (\" NPS score of Amazon is : \"  + str(NPS_score))"
   ]
  },
  {
   "cell_type": "code",
   "execution_count": 17,
   "id": "5984bab8",
   "metadata": {},
   "outputs": [],
   "source": [
    "kindle = reviews[reviews.name=='Amazon Kindle Paperwhite - eBook reader - 4 GB - 6 monochrome Paperwhite - touchscreen - Wi-Fi - black,,,']"
   ]
  },
  {
   "cell_type": "code",
   "execution_count": 18,
   "id": "2a58d723",
   "metadata": {},
   "outputs": [
    {
     "data": {
      "text/plain": [
       "name            0\n",
       "asins           0\n",
       "brand           0\n",
       "categories      0\n",
       "keys            0\n",
       "manufacturer    0\n",
       "date            0\n",
       "dateAdded       0\n",
       "dateSeen        0\n",
       "doRecommend     0\n",
       "numHelpful      0\n",
       "rating          0\n",
       "sourceURLs      0\n",
       "text            0\n",
       "title           0\n",
       "username        0\n",
       "bulk            0\n",
       "dtype: int64"
      ]
     },
     "execution_count": 18,
     "metadata": {},
     "output_type": "execute_result"
    }
   ],
   "source": [
    "kindle.isnull().sum()"
   ]
  },
  {
   "cell_type": "code",
   "execution_count": 19,
   "id": "64a46444",
   "metadata": {},
   "outputs": [
    {
     "name": "stdout",
     "output_type": "stream",
     "text": [
      " NPS score of Kindle is : 77.08\n"
     ]
    },
    {
     "data": {
      "text/plain": [
       "<AxesSubplot:title={'center':'Amazon customer ratings'}>"
      ]
     },
     "execution_count": 19,
     "metadata": {},
     "output_type": "execute_result"
    },
    {
     "data": {
      "image/png": "[encoded data removed]",
      "text/plain": [
       "<Figure size 432x432 with 1 Axes>"
      ]
     },
     "metadata": {
      "needs_background": "light"
     },
     "output_type": "display_data"
    }
   ],
   "source": [
    "kindle_s = kindle.rating.value_counts()\n",
    "kindle_s.sort_index(inplace=True)\n",
    "\n",
    "Kindle_NPS_score = round (100*(kindle_s[5]-sum(kindle_s[1:3]))/sum(kindle_s),2)\n",
    "print (\" NPS score of Kindle is : \"  + str(Kindle_NPS_score))\n",
    "#better NPS than overall amazon\n",
    "kindle_s.plot(kind='bar',title='Amazon customer ratings',figsize=(6,6),style='Solarize_Light2')"
   ]
  },
  {
   "cell_type": "code",
   "execution_count": 20,
   "id": "a5e89706",
   "metadata": {},
   "outputs": [
    {
     "data": {
      "text/plain": [
       "True     3111\n",
       "False      65\n",
       "Name: doRecommend, dtype: int64"
      ]
     },
     "execution_count": 20,
     "metadata": {},
     "output_type": "execute_result"
    }
   ],
   "source": [
    "kindle.doRecommend.value_counts()"
   ]
  },
  {
   "cell_type": "code",
   "execution_count": 21,
   "id": "02828320",
   "metadata": {},
   "outputs": [
    {
     "data": {
      "text/plain": [
       "array([<AxesSubplot:title={'center':'False'}>,\n",
       "       <AxesSubplot:title={'center':'True'}>], dtype=object)"
      ]
     },
     "execution_count": 21,
     "metadata": {},
     "output_type": "execute_result"
    },
    {
     "data": {
      "image/png": "[encoded data removed]",
      "text/plain": [
       "<Figure size 864x432 with 2 Axes>"
      ]
     },
     "metadata": {
      "needs_background": "light"
     },
     "output_type": "display_data"
    }
   ],
   "source": [
    "kindle.rating.hist(by=kindle.doRecommend,figsize=(12,6))"
   ]
  },
  {
   "cell_type": "code",
   "execution_count": 22,
   "id": "17bd7de2",
   "metadata": {},
   "outputs": [
    {
     "name": "stdout",
     "output_type": "stream",
     "text": [
      "Those who recommend amazon kindle generate high NPS score of 98.23\n",
      "Those who DO NOT recommend kindle produce a NPS score of -20.0\n",
      " ~ pretty much correct definition of NPS score\n"
     ]
    }
   ],
   "source": [
    "plus_kindle = kindle[kindle.doRecommend==True].rating.value_counts()\n",
    "plus_kindle.sort_index(inplace=True)\n",
    "recomm_NPS = round(100*(sum(plus_kindle[4:5])-sum(plus_kindle[1:2]))/sum(plus_kindle),2)\n",
    "minus_kindle = kindle[kindle.doRecommend==False].rating.value_counts()\n",
    "minus_kindle.sort_index(inplace=True)\n",
    "notrecomm_NPS = round(100*(sum(minus_kindle[4:5])-sum(minus_kindle[1:2]))/sum(minus_kindle),2)\n",
    "print(\"Those who recommend amazon kindle generate high NPS score of \" + str(recomm_NPS))\n",
    "print(\"Those who DO NOT recommend kindle produce a NPS score of \" + str(notrecomm_NPS))\n",
    "print(\" ~ pretty much correct definition of NPS score\")"
   ]
  },
  {
   "cell_type": "code",
   "execution_count": 23,
   "id": "923a04c5",
   "metadata": {},
   "outputs": [],
   "source": [
    "comments = pd.concat([kindle['text']+\". \"+ kindle['title'],kindle['rating'],kindle['doRecommend']],axis=1)\n",
    "comments.columns=['text','rating','recommend']"
   ]
  },
  {
   "cell_type": "code",
   "execution_count": 24,
   "id": "937b9ad4",
   "metadata": {},
   "outputs": [
    {
     "name": "stderr",
     "output_type": "stream",
     "text": [
      "C:\\Users\\KANIMO~1\\AppData\\Local\\Temp/ipykernel_18688/687055249.py:17: SettingWithCopyWarning: \n",
      "A value is trying to be set on a copy of a slice from a DataFrame.\n",
      "Try using .loc[row_indexer,col_indexer] = value instead\n",
      "\n",
      "See the caveats in the documentation: https://pandas.pydata.org/pandas-docs/stable/user_guide/indexing.html#returning-a-view-versus-a-copy\n",
      "  senti[\"Summary_Clean\"] = senti[\"text\"].apply(cleanup)\n",
      "C:\\Users\\KANIMO~1\\AppData\\Local\\Temp/ipykernel_18688/687055249.py:18: SettingWithCopyWarning: \n",
      "A value is trying to be set on a copy of a slice from a DataFrame.\n",
      "Try using .loc[row_indexer,col_indexer] = value instead\n",
      "\n",
      "See the caveats in the documentation: https://pandas.pydata.org/pandas-docs/stable/user_guide/indexing.html#returning-a-view-versus-a-copy\n",
      "  check[\"Summary_Clean\"] = check[\"text\"].apply(cleanup)\n"
     ]
    }
   ],
   "source": [
    "#cleaning text\n",
    "import nltk.classify.util\n",
    "from nltk.classify import NaiveBayesClassifier\n",
    "import numpy as np\n",
    "import re\n",
    "import string\n",
    "import nltk\n",
    "\n",
    "cleanup_re = re.compile('[^a-z]+')\n",
    "def cleanup(sentence):\n",
    "    sentence = str(sentence)\n",
    "    sentence = sentence.lower()\n",
    "    sentence = cleanup_re.sub(' ', sentence).strip()\n",
    "    #sentence = \" \".join(nltk.word_tokenize(sentence))\n",
    "    return sentence\n",
    "\n",
    "senti[\"Summary_Clean\"] = senti[\"text\"].apply(cleanup)\n",
    "check[\"Summary_Clean\"] = check[\"text\"].apply(cleanup)"
   ]
  },
  {
   "cell_type": "code",
   "execution_count": 25,
   "id": "0d29626f",
   "metadata": {},
   "outputs": [],
   "source": [
    "#Splitting Train and Test Data\n",
    "split = senti[[\"Summary_Clean\" , \"senti\"]]\n",
    "train=split.sample(frac=0.8,random_state=200)\n",
    "test=split.drop(train.index)"
   ]
  },
  {
   "cell_type": "code",
   "execution_count": 26,
   "id": "7b6c8047",
   "metadata": {},
   "outputs": [],
   "source": [
    "#Feature Extracter \n",
    "def word_feats(words):\n",
    "    features = {}\n",
    "    for word in words:\n",
    "        features [word] = True\n",
    "    return features"
   ]
  },
  {
   "cell_type": "code",
   "execution_count": 27,
   "id": "9995445f",
   "metadata": {},
   "outputs": [
    {
     "name": "stderr",
     "output_type": "stream",
     "text": [
      "C:\\Users\\KANIMO~1\\AppData\\Local\\Temp/ipykernel_18688/1233231043.py:3: SettingWithCopyWarning: \n",
      "A value is trying to be set on a copy of a slice from a DataFrame.\n",
      "Try using .loc[row_indexer,col_indexer] = value instead\n",
      "\n",
      "See the caveats in the documentation: https://pandas.pydata.org/pandas-docs/stable/user_guide/indexing.html#returning-a-view-versus-a-copy\n",
      "  check[\"words\"] = check[\"Summary_Clean\"].str.lower().str.split()\n"
     ]
    },
    {
     "name": "stdout",
     "output_type": "stream",
     "text": [
      "NLTK Naive bayes Accuracy : 0.5897472924187726\n",
      "Most Informative Features\n",
      "                 deleted = True              neg : pos    =     51.3 : 1.0\n",
      "                 warning = True              neg : pos    =     51.3 : 1.0\n",
      "                    bent = True              neg : pos    =     42.0 : 1.0\n",
      "                    nope = True              neg : pos    =     42.0 : 1.0\n",
      "                  rotate = True              neg : pos    =     42.0 : 1.0\n"
     ]
    }
   ],
   "source": [
    "train[\"words\"] = train[\"Summary_Clean\"].str.lower().str.split()\n",
    "test[\"words\"] = test[\"Summary_Clean\"].str.lower().str.split()\n",
    "check[\"words\"] = check[\"Summary_Clean\"].str.lower().str.split()\n",
    "\n",
    "train.index = range(train.shape[0])\n",
    "test.index = range(test.shape[0])\n",
    "check.index = range(check.shape[0])\n",
    "prediction =  {} ## For storing results of different classifiers\n",
    "\n",
    "train_naive = []\n",
    "test_naive = []\n",
    "check_naive = []\n",
    "\n",
    "for i in range(train.shape[0]):\n",
    "    train_naive = train_naive +[[word_feats(train[\"words\"][i]) , train[\"senti\"][i]]]\n",
    "for i in range(test.shape[0]):\n",
    "    test_naive = test_naive +[[word_feats(test[\"words\"][i]) , test[\"senti\"][i]]]\n",
    "for i in range(check.shape[0]):\n",
    "    check_naive = check_naive +[word_feats(check[\"words\"][i])]\n",
    "\n",
    "\n",
    "classifier = NaiveBayesClassifier.train(train_naive)\n",
    "print(\"NLTK Naive bayes Accuracy : {}\".format(nltk.classify.util.accuracy(classifier , test_naive)))\n",
    "classifier.show_most_informative_features(5)"
   ]
  },
  {
   "cell_type": "code",
   "execution_count": 28,
   "id": "2ac6adf0",
   "metadata": {},
   "outputs": [
    {
     "name": "stderr",
     "output_type": "stream",
     "text": [
      "C:\\Users\\KANIMO~1\\AppData\\Local\\Temp/ipykernel_18688/4099987593.py:11: SettingWithCopyWarning: \n",
      "A value is trying to be set on a copy of a slice from a DataFrame.\n",
      "Try using .loc[row_indexer,col_indexer] = value instead\n",
      "\n",
      "See the caveats in the documentation: https://pandas.pydata.org/pandas-docs/stable/user_guide/indexing.html#returning-a-view-versus-a-copy\n",
      "  check[\"Naive\"] = y1\n"
     ]
    }
   ],
   "source": [
    "y =[]\n",
    "only_words= [test_naive[i][0] for i in range(test.shape[0])]\n",
    "for i in range(test.shape[0]):\n",
    "    y = y + [classifier.classify(only_words[i] )]\n",
    "prediction[\"Naive\"]= np.asarray(y)\n",
    "\n",
    "y1 = []\n",
    "for i in range(check.shape[0]):\n",
    "    y1 = y1 + [classifier.classify(check_naive[i] )]\n",
    "\n",
    "check[\"Naive\"] = y1"
   ]
  },
  {
   "cell_type": "code",
   "execution_count": 29,
   "id": "9f088e48",
   "metadata": {},
   "outputs": [
    {
     "name": "stderr",
     "output_type": "stream",
     "text": [
      "C:\\Users\\Kanimozhi\\Anaconda\\lib\\site-packages\\sklearn\\feature_extraction\\text.py:388: UserWarning: Your stop_words may be inconsistent with your preprocessing. Tokenizing the stop words generated tokens ['aren', 'couldn', 'didn', 'doesn', 'don', 'hadn', 'hasn', 'haven', 'isn', 'let', 'll', 'mustn', 're', 'shan', 'shouldn', 've', 'wasn', 'weren', 'won', 'wouldn'] not in stop_words.\n",
      "  warnings.warn('Your stop_words may be inconsistent with '\n"
     ]
    }
   ],
   "source": [
    "from wordcloud import STOPWORDS\n",
    "\n",
    "from sklearn.feature_extraction.text import TfidfTransformer\n",
    "from sklearn.feature_extraction.text import CountVectorizer\n",
    "stopwords = set(STOPWORDS)\n",
    "stopwords.remove(\"not\")\n",
    "\n",
    "count_vect = CountVectorizer(min_df=2 ,stop_words=stopwords , ngram_range=(1,2))\n",
    "tfidf_transformer = TfidfTransformer()\n",
    "\n",
    "X_train_counts = count_vect.fit_transform(train[\"Summary_Clean\"])        \n",
    "X_train_tfidf = tfidf_transformer.fit_transform(X_train_counts)\n",
    "\n",
    "\n",
    "X_new_counts = count_vect.transform(test[\"Summary_Clean\"])\n",
    "X_test_tfidf = tfidf_transformer.transform(X_new_counts)\n",
    "\n",
    "checkcounts = count_vect.transform(check[\"Summary_Clean\"])\n",
    "checktfidf = tfidf_transformer.transform(checkcounts)"
   ]
  },
  {
   "cell_type": "code",
   "execution_count": 30,
   "id": "219c3b51",
   "metadata": {},
   "outputs": [
    {
     "name": "stdout",
     "output_type": "stream",
     "text": [
      "Multinomial Accuracy : 0.9329963898916968\n"
     ]
    },
    {
     "name": "stderr",
     "output_type": "stream",
     "text": [
      "C:\\Users\\KANIMO~1\\AppData\\Local\\Temp/ipykernel_18688/1324113322.py:6: SettingWithCopyWarning: \n",
      "A value is trying to be set on a copy of a slice from a DataFrame.\n",
      "Try using .loc[row_indexer,col_indexer] = value instead\n",
      "\n",
      "See the caveats in the documentation: https://pandas.pydata.org/pandas-docs/stable/user_guide/indexing.html#returning-a-view-versus-a-copy\n",
      "  check[\"multi\"] = model1.predict(checktfidf)# Predicting Sentiment for Check which was Null values for rating\n"
     ]
    }
   ],
   "source": [
    "from sklearn.naive_bayes import MultinomialNB\n",
    "model1 = MultinomialNB().fit(X_train_tfidf , train[\"senti\"])\n",
    "prediction['Multinomial'] = model1.predict_proba(X_test_tfidf)[:,1]\n",
    "print(\"Multinomial Accuracy : {}\".format(model1.score(X_test_tfidf , test[\"senti\"])))\n",
    "\n",
    "check[\"multi\"] = model1.predict(checktfidf)# Predicting Sentiment for Check which was Null values for rating"
   ]
  },
  {
   "cell_type": "code",
   "execution_count": 31,
   "id": "4d8ec134",
   "metadata": {},
   "outputs": [
    {
     "name": "stdout",
     "output_type": "stream",
     "text": [
      "Logistic Regression Accuracy : 0.9373285198555956\n"
     ]
    },
    {
     "name": "stderr",
     "output_type": "stream",
     "text": [
      "C:\\Users\\Kanimozhi\\Anaconda\\lib\\site-packages\\sklearn\\linear_model\\_logistic.py:763: ConvergenceWarning: lbfgs failed to converge (status=1):\n",
      "STOP: TOTAL NO. of ITERATIONS REACHED LIMIT.\n",
      "\n",
      "Increase the number of iterations (max_iter) or scale the data as shown in:\n",
      "    https://scikit-learn.org/stable/modules/preprocessing.html\n",
      "Please also refer to the documentation for alternative solver options:\n",
      "    https://scikit-learn.org/stable/modules/linear_model.html#logistic-regression\n",
      "  n_iter_i = _check_optimize_result(\n",
      "C:\\Users\\KANIMO~1\\AppData\\Local\\Temp/ipykernel_18688/2836495687.py:8: SettingWithCopyWarning: \n",
      "A value is trying to be set on a copy of a slice from a DataFrame.\n",
      "Try using .loc[row_indexer,col_indexer] = value instead\n",
      "\n",
      "See the caveats in the documentation: https://pandas.pydata.org/pandas-docs/stable/user_guide/indexing.html#returning-a-view-versus-a-copy\n",
      "  check[\"log\"] = logreg.predict(checktfidf)# Predicting Sentiment for Check which was Null values for rating\n"
     ]
    }
   ],
   "source": [
    "#Fitting Logistic Regression\n",
    "from sklearn import linear_model\n",
    "logreg = linear_model.LogisticRegression(solver='lbfgs' , C=1000)\n",
    "logistic = logreg.fit(X_train_tfidf, train[\"senti\"])\n",
    "prediction['LogisticRegression'] = logreg.predict_proba(X_test_tfidf)[:,1]\n",
    "print(\"Logistic Regression Accuracy : {}\".format(logreg.score(X_test_tfidf , test[\"senti\"])))\n",
    "\n",
    "check[\"log\"] = logreg.predict(checktfidf)# Predicting Sentiment for Check which was Null values for rating"
   ]
  },
  {
   "cell_type": "code",
   "execution_count": 32,
   "id": "11a6511c",
   "metadata": {},
   "outputs": [
    {
     "data": {
      "text/html": [
       "<div>\n",
       "<style scoped>\n",
       "    .dataframe tbody tr th:only-of-type {\n",
       "        vertical-align: middle;\n",
       "    }\n",
       "\n",
       "    .dataframe tbody tr th {\n",
       "        vertical-align: top;\n",
       "    }\n",
       "\n",
       "    .dataframe thead th {\n",
       "        text-align: right;\n",
       "    }\n",
       "</style>\n",
       "<table border=\"1\" class=\"dataframe\">\n",
       "  <thead>\n",
       "    <tr style=\"text-align: right;\">\n",
       "      <th></th>\n",
       "      <th>feature</th>\n",
       "      <th>coef</th>\n",
       "    </tr>\n",
       "  </thead>\n",
       "  <tbody>\n",
       "    <tr>\n",
       "      <th>42481</th>\n",
       "      <td>terrible</td>\n",
       "      <td>-20.642484</td>\n",
       "    </tr>\n",
       "    <tr>\n",
       "      <th>48056</th>\n",
       "      <td>will definitely</td>\n",
       "      <td>-19.902734</td>\n",
       "    </tr>\n",
       "    <tr>\n",
       "      <th>38807</th>\n",
       "      <td>slow</td>\n",
       "      <td>-19.424715</td>\n",
       "    </tr>\n",
       "    <tr>\n",
       "      <th>10647</th>\n",
       "      <td>done great</td>\n",
       "      <td>-19.165395</td>\n",
       "    </tr>\n",
       "    <tr>\n",
       "      <th>18450</th>\n",
       "      <td>great year</td>\n",
       "      <td>-18.497884</td>\n",
       "    </tr>\n",
       "    <tr>\n",
       "      <th>...</th>\n",
       "      <td>...</td>\n",
       "      <td>...</td>\n",
       "    </tr>\n",
       "    <tr>\n",
       "      <th>32876</th>\n",
       "      <td>probably wouldn</td>\n",
       "      <td>16.029572</td>\n",
       "    </tr>\n",
       "    <tr>\n",
       "      <th>28400</th>\n",
       "      <td>not disappointed</td>\n",
       "      <td>16.629196</td>\n",
       "    </tr>\n",
       "    <tr>\n",
       "      <th>30972</th>\n",
       "      <td>perfect</td>\n",
       "      <td>18.188530</td>\n",
       "    </tr>\n",
       "    <tr>\n",
       "      <th>17859</th>\n",
       "      <td>great</td>\n",
       "      <td>19.440405</td>\n",
       "    </tr>\n",
       "    <tr>\n",
       "      <th>24303</th>\n",
       "      <td>love</td>\n",
       "      <td>28.305240</td>\n",
       "    </tr>\n",
       "  </tbody>\n",
       "</table>\n",
       "<p>49281 rows × 2 columns</p>\n",
       "</div>"
      ],
      "text/plain": [
       "                feature       coef\n",
       "42481          terrible -20.642484\n",
       "48056   will definitely -19.902734\n",
       "38807              slow -19.424715\n",
       "10647        done great -19.165395\n",
       "18450        great year -18.497884\n",
       "...                 ...        ...\n",
       "32876   probably wouldn  16.029572\n",
       "28400  not disappointed  16.629196\n",
       "30972           perfect  18.188530\n",
       "17859             great  19.440405\n",
       "24303              love  28.305240\n",
       "\n",
       "[49281 rows x 2 columns]"
      ]
     },
     "execution_count": 32,
     "metadata": {},
     "output_type": "execute_result"
    }
   ],
   "source": [
    "#Getting most occuring words in training dataset\n",
    "words = count_vect.get_feature_names()\n",
    "feature_coefs = pd.DataFrame(\n",
    "    data = list(zip(words, logistic.coef_[0])),\n",
    "    columns = ['feature', 'coef'])\n",
    "feature_coefs.sort_values(by=\"coef\")"
   ]
  },
  {
   "cell_type": "code",
   "execution_count": 33,
   "id": "66fa180a",
   "metadata": {},
   "outputs": [
    {
     "name": "stdout",
     "output_type": "stream",
     "text": [
      "Stemmed hello-happiest-place-organ-organ-organ-happi-world-happi-much-happi-\n",
      "Lemmatized hello-happiest-place-organize-organizes-organizing-happy-world-happiness-much-happy-\n"
     ]
    }
   ],
   "source": [
    "import string\n",
    "import nltk\n",
    "from nltk import PorterStemmer\n",
    "import re \n",
    "\n",
    "stopwords = nltk.corpus.stopwords.words('english')\n",
    "ps = PorterStemmer()\n",
    "wn = nltk.WordNetLemmatizer()\n",
    "\n",
    "\n",
    "def clean_stem (sent): \n",
    "    temp1 =\"\".join(x for x in sent if x not in string.punctuation)\n",
    "    temp2 = re.split('\\W+',temp1.lower())\n",
    "    temp3 = [ps.stem(x) for x in temp2 if x not in stopwords]\n",
    "    return temp3\n",
    "\n",
    "def clean_lemma (sent): \n",
    "    temp1 =\"\".join(x for x in sent if x not in string.punctuation)\n",
    "    temp2 = re.split('\\W+',temp1.lower())\n",
    "    temp3 = [wn.lemmatize(x) for x in temp2 if x not in stopwords]\n",
    "    return temp3\n",
    "\n",
    "text=\"Hello this is, my happiest place. organize, organizes, and organizing in Happy world ! with happiness ..\\\n",
    "so much of happy!! \"\n",
    "\n",
    "print(\"Stemmed \" + \"-\".join(clean_stem(text)))\n",
    "print(\"Lemmatized \" + \"-\".join(clean_lemma(text)))"
   ]
  },
  {
   "cell_type": "code",
   "execution_count": 34,
   "id": "6b5a5129",
   "metadata": {},
   "outputs": [
    {
     "name": "stdout",
     "output_type": "stream",
     "text": [
      "Stemmed - 3693\n",
      "Lemmatized - 4547\n"
     ]
    }
   ],
   "source": [
    "from sklearn.feature_extraction.text import TfidfVectorizer\n",
    "\n",
    "vectstem = TfidfVectorizer(analyzer=clean_stem)\n",
    "vectlemm = TfidfVectorizer(analyzer=clean_lemma)\n",
    "\n",
    "textfeatures=vectstem.fit_transform(comments['text'])\n",
    "print(\"Stemmed - \" + str(len(vectstem.get_feature_names())))\n",
    "\n",
    "vectlemm.fit_transform(comments['text'])\n",
    "print(\"Lemmatized - \" + str(len(vectlemm.get_feature_names())))"
   ]
  },
  {
   "cell_type": "code",
   "execution_count": 35,
   "id": "6b25e8f2",
   "metadata": {},
   "outputs": [
    {
     "name": "stdout",
     "output_type": "stream",
     "text": [
      "Lemmatized - 4547\n"
     ]
    }
   ],
   "source": [
    "print(\"Lemmatized - \" + str(len(vectlemm.get_feature_names())))"
   ]
  },
  {
   "cell_type": "code",
   "execution_count": 36,
   "id": "ef2fd7e7",
   "metadata": {},
   "outputs": [
    {
     "data": {
      "text/html": [
       "<div>\n",
       "<style scoped>\n",
       "    .dataframe tbody tr th:only-of-type {\n",
       "        vertical-align: middle;\n",
       "    }\n",
       "\n",
       "    .dataframe tbody tr th {\n",
       "        vertical-align: top;\n",
       "    }\n",
       "\n",
       "    .dataframe thead th {\n",
       "        text-align: right;\n",
       "    }\n",
       "</style>\n",
       "<table border=\"1\" class=\"dataframe\">\n",
       "  <thead>\n",
       "    <tr style=\"text-align: right;\">\n",
       "      <th></th>\n",
       "      <th>nice</th>\n",
       "      <th>littl</th>\n",
       "      <th>set</th>\n",
       "      <th>slow</th>\n",
       "      <th>wish</th>\n",
       "      <th>would</th>\n",
       "      <th>investig</th>\n",
       "      <th>jump</th>\n",
       "      <th>like</th>\n",
       "      <th>long</th>\n",
       "      <th>...</th>\n",
       "      <th>git</th>\n",
       "      <th>vovag</th>\n",
       "      <th>sinpl</th>\n",
       "      <th>purpl</th>\n",
       "      <th>write</th>\n",
       "      <th>optioni</th>\n",
       "      <th>blackveri</th>\n",
       "      <th>onesveri</th>\n",
       "      <th>reliab</th>\n",
       "      <th>glich</th>\n",
       "    </tr>\n",
       "  </thead>\n",
       "  <tbody>\n",
       "    <tr>\n",
       "      <th>0</th>\n",
       "      <td>0.0</td>\n",
       "      <td>0.0</td>\n",
       "      <td>0.0</td>\n",
       "      <td>0.0</td>\n",
       "      <td>0.0</td>\n",
       "      <td>0.0</td>\n",
       "      <td>0.0</td>\n",
       "      <td>0.0</td>\n",
       "      <td>0.0</td>\n",
       "      <td>0.0</td>\n",
       "      <td>...</td>\n",
       "      <td>0.0</td>\n",
       "      <td>0.0</td>\n",
       "      <td>0.0</td>\n",
       "      <td>0.0</td>\n",
       "      <td>0.0</td>\n",
       "      <td>0.0</td>\n",
       "      <td>0.0</td>\n",
       "      <td>0.0</td>\n",
       "      <td>0.0</td>\n",
       "      <td>0.0</td>\n",
       "    </tr>\n",
       "    <tr>\n",
       "      <th>1</th>\n",
       "      <td>0.0</td>\n",
       "      <td>0.0</td>\n",
       "      <td>0.0</td>\n",
       "      <td>0.0</td>\n",
       "      <td>0.0</td>\n",
       "      <td>0.0</td>\n",
       "      <td>0.0</td>\n",
       "      <td>0.0</td>\n",
       "      <td>0.0</td>\n",
       "      <td>0.0</td>\n",
       "      <td>...</td>\n",
       "      <td>0.0</td>\n",
       "      <td>0.0</td>\n",
       "      <td>0.0</td>\n",
       "      <td>0.0</td>\n",
       "      <td>0.0</td>\n",
       "      <td>0.0</td>\n",
       "      <td>0.0</td>\n",
       "      <td>0.0</td>\n",
       "      <td>0.0</td>\n",
       "      <td>0.0</td>\n",
       "    </tr>\n",
       "    <tr>\n",
       "      <th>2</th>\n",
       "      <td>0.0</td>\n",
       "      <td>0.0</td>\n",
       "      <td>0.0</td>\n",
       "      <td>0.0</td>\n",
       "      <td>0.0</td>\n",
       "      <td>0.0</td>\n",
       "      <td>0.0</td>\n",
       "      <td>0.0</td>\n",
       "      <td>0.0</td>\n",
       "      <td>0.0</td>\n",
       "      <td>...</td>\n",
       "      <td>0.0</td>\n",
       "      <td>0.0</td>\n",
       "      <td>0.0</td>\n",
       "      <td>0.0</td>\n",
       "      <td>0.0</td>\n",
       "      <td>0.0</td>\n",
       "      <td>0.0</td>\n",
       "      <td>0.0</td>\n",
       "      <td>0.0</td>\n",
       "      <td>0.0</td>\n",
       "    </tr>\n",
       "    <tr>\n",
       "      <th>3</th>\n",
       "      <td>0.0</td>\n",
       "      <td>0.0</td>\n",
       "      <td>0.0</td>\n",
       "      <td>0.0</td>\n",
       "      <td>0.0</td>\n",
       "      <td>0.0</td>\n",
       "      <td>0.0</td>\n",
       "      <td>0.0</td>\n",
       "      <td>0.0</td>\n",
       "      <td>0.0</td>\n",
       "      <td>...</td>\n",
       "      <td>0.0</td>\n",
       "      <td>0.0</td>\n",
       "      <td>0.0</td>\n",
       "      <td>0.0</td>\n",
       "      <td>0.0</td>\n",
       "      <td>0.0</td>\n",
       "      <td>0.0</td>\n",
       "      <td>0.0</td>\n",
       "      <td>0.0</td>\n",
       "      <td>0.0</td>\n",
       "    </tr>\n",
       "    <tr>\n",
       "      <th>4</th>\n",
       "      <td>0.0</td>\n",
       "      <td>0.0</td>\n",
       "      <td>0.0</td>\n",
       "      <td>0.0</td>\n",
       "      <td>0.0</td>\n",
       "      <td>0.0</td>\n",
       "      <td>0.0</td>\n",
       "      <td>0.0</td>\n",
       "      <td>0.0</td>\n",
       "      <td>0.0</td>\n",
       "      <td>...</td>\n",
       "      <td>0.0</td>\n",
       "      <td>0.0</td>\n",
       "      <td>0.0</td>\n",
       "      <td>0.0</td>\n",
       "      <td>0.0</td>\n",
       "      <td>0.0</td>\n",
       "      <td>0.0</td>\n",
       "      <td>0.0</td>\n",
       "      <td>0.0</td>\n",
       "      <td>0.0</td>\n",
       "    </tr>\n",
       "  </tbody>\n",
       "</table>\n",
       "<p>5 rows × 3693 columns</p>\n",
       "</div>"
      ],
      "text/plain": [
       "   nice  littl  set  slow  wish  would  investig  jump  like  long  ...  git  \\\n",
       "0   0.0    0.0  0.0   0.0   0.0    0.0       0.0   0.0   0.0   0.0  ...  0.0   \n",
       "1   0.0    0.0  0.0   0.0   0.0    0.0       0.0   0.0   0.0   0.0  ...  0.0   \n",
       "2   0.0    0.0  0.0   0.0   0.0    0.0       0.0   0.0   0.0   0.0  ...  0.0   \n",
       "3   0.0    0.0  0.0   0.0   0.0    0.0       0.0   0.0   0.0   0.0  ...  0.0   \n",
       "4   0.0    0.0  0.0   0.0   0.0    0.0       0.0   0.0   0.0   0.0  ...  0.0   \n",
       "\n",
       "   vovag  sinpl  purpl  write  optioni  blackveri  onesveri  reliab  glich  \n",
       "0    0.0    0.0    0.0    0.0      0.0        0.0       0.0     0.0    0.0  \n",
       "1    0.0    0.0    0.0    0.0      0.0        0.0       0.0     0.0    0.0  \n",
       "2    0.0    0.0    0.0    0.0      0.0        0.0       0.0     0.0    0.0  \n",
       "3    0.0    0.0    0.0    0.0      0.0        0.0       0.0     0.0    0.0  \n",
       "4    0.0    0.0    0.0    0.0      0.0        0.0       0.0     0.0    0.0  \n",
       "\n",
       "[5 rows x 3693 columns]"
      ]
     },
     "execution_count": 36,
     "metadata": {},
     "output_type": "execute_result"
    }
   ],
   "source": [
    "textmatrix = pd.DataFrame(textfeatures.toarray(),columns=vectstem.vocabulary_)\n",
    "textmatrix.head(5)"
   ]
  },
  {
   "cell_type": "code",
   "execution_count": 37,
   "id": "ef285080",
   "metadata": {},
   "outputs": [
    {
     "data": {
      "text/html": [
       "<div>\n",
       "<style scoped>\n",
       "    .dataframe tbody tr th:only-of-type {\n",
       "        vertical-align: middle;\n",
       "    }\n",
       "\n",
       "    .dataframe tbody tr th {\n",
       "        vertical-align: top;\n",
       "    }\n",
       "\n",
       "    .dataframe thead th {\n",
       "        text-align: right;\n",
       "    }\n",
       "</style>\n",
       "<table border=\"1\" class=\"dataframe\">\n",
       "  <thead>\n",
       "    <tr style=\"text-align: right;\">\n",
       "      <th></th>\n",
       "      <th>sum_scores_TFIDF</th>\n",
       "    </tr>\n",
       "  </thead>\n",
       "  <tbody>\n",
       "    <tr>\n",
       "      <th>nice</th>\n",
       "      <td>4.242392</td>\n",
       "    </tr>\n",
       "    <tr>\n",
       "      <th>littl</th>\n",
       "      <td>0.338632</td>\n",
       "    </tr>\n",
       "    <tr>\n",
       "      <th>set</th>\n",
       "      <td>0.515145</td>\n",
       "    </tr>\n",
       "    <tr>\n",
       "      <th>slow</th>\n",
       "      <td>4.349600</td>\n",
       "    </tr>\n",
       "    <tr>\n",
       "      <th>wish</th>\n",
       "      <td>4.576738</td>\n",
       "    </tr>\n",
       "    <tr>\n",
       "      <th>would</th>\n",
       "      <td>3.383977</td>\n",
       "    </tr>\n",
       "    <tr>\n",
       "      <th>investig</th>\n",
       "      <td>0.990953</td>\n",
       "    </tr>\n",
       "    <tr>\n",
       "      <th>jump</th>\n",
       "      <td>0.179253</td>\n",
       "    </tr>\n",
       "    <tr>\n",
       "      <th>like</th>\n",
       "      <td>0.145790</td>\n",
       "    </tr>\n",
       "    <tr>\n",
       "      <th>long</th>\n",
       "      <td>0.381124</td>\n",
       "    </tr>\n",
       "  </tbody>\n",
       "</table>\n",
       "</div>"
      ],
      "text/plain": [
       "          sum_scores_TFIDF\n",
       "nice              4.242392\n",
       "littl             0.338632\n",
       "set               0.515145\n",
       "slow              4.349600\n",
       "wish              4.576738\n",
       "would             3.383977\n",
       "investig          0.990953\n",
       "jump              0.179253\n",
       "like              0.145790\n",
       "long              0.381124"
      ]
     },
     "execution_count": 37,
     "metadata": {},
     "output_type": "execute_result"
    }
   ],
   "source": [
    "sum_scores = pd.DataFrame(textmatrix.sum(),columns=['sum_scores_TFIDF'])\n",
    "sum_scores.head(10)"
   ]
  },
  {
   "cell_type": "code",
   "execution_count": 38,
   "id": "71bec867",
   "metadata": {},
   "outputs": [
    {
     "data": {
      "text/html": [
       "<div>\n",
       "<style scoped>\n",
       "    .dataframe tbody tr th:only-of-type {\n",
       "        vertical-align: middle;\n",
       "    }\n",
       "\n",
       "    .dataframe tbody tr th {\n",
       "        vertical-align: top;\n",
       "    }\n",
       "\n",
       "    .dataframe thead th {\n",
       "        text-align: right;\n",
       "    }\n",
       "</style>\n",
       "<table border=\"1\" class=\"dataframe\">\n",
       "  <thead>\n",
       "    <tr style=\"text-align: right;\">\n",
       "      <th></th>\n",
       "      <th>sum_scores_TFIDF</th>\n",
       "    </tr>\n",
       "  </thead>\n",
       "  <tbody>\n",
       "    <tr>\n",
       "      <th>gripe</th>\n",
       "      <td>0.076083</td>\n",
       "    </tr>\n",
       "    <tr>\n",
       "      <th>grandkid</th>\n",
       "      <td>0.076083</td>\n",
       "    </tr>\n",
       "    <tr>\n",
       "      <th>old</th>\n",
       "      <td>0.076083</td>\n",
       "    </tr>\n",
       "    <tr>\n",
       "      <th>cow</th>\n",
       "      <td>0.076083</td>\n",
       "    </tr>\n",
       "    <tr>\n",
       "      <th>felt</th>\n",
       "      <td>0.076083</td>\n",
       "    </tr>\n",
       "  </tbody>\n",
       "</table>\n",
       "</div>"
      ],
      "text/plain": [
       "          sum_scores_TFIDF\n",
       "gripe             0.076083\n",
       "grandkid          0.076083\n",
       "old               0.076083\n",
       "cow               0.076083\n",
       "felt              0.076083"
      ]
     },
     "execution_count": 38,
     "metadata": {},
     "output_type": "execute_result"
    }
   ],
   "source": [
    "sum_scores.sort_values(by='sum_scores_TFIDF',ascending=True)[:5] "
   ]
  },
  {
   "cell_type": "code",
   "execution_count": 39,
   "id": "29f56708",
   "metadata": {},
   "outputs": [
    {
     "data": {
      "text/html": [
       "<div>\n",
       "<style scoped>\n",
       "    .dataframe tbody tr th:only-of-type {\n",
       "        vertical-align: middle;\n",
       "    }\n",
       "\n",
       "    .dataframe tbody tr th {\n",
       "        vertical-align: top;\n",
       "    }\n",
       "\n",
       "    .dataframe thead th {\n",
       "        text-align: right;\n",
       "    }\n",
       "</style>\n",
       "<table border=\"1\" class=\"dataframe\">\n",
       "  <thead>\n",
       "    <tr style=\"text-align: right;\">\n",
       "      <th></th>\n",
       "      <th>sum_scores_TFIDF</th>\n",
       "    </tr>\n",
       "  </thead>\n",
       "  <tbody>\n",
       "    <tr>\n",
       "      <th>fool</th>\n",
       "      <td>217.397630</td>\n",
       "    </tr>\n",
       "    <tr>\n",
       "      <th>summer</th>\n",
       "      <td>209.501804</td>\n",
       "    </tr>\n",
       "    <tr>\n",
       "      <th>matt</th>\n",
       "      <td>198.910788</td>\n",
       "    </tr>\n",
       "    <tr>\n",
       "      <th>lighter</th>\n",
       "      <td>181.218969</td>\n",
       "    </tr>\n",
       "    <tr>\n",
       "      <th>purs</th>\n",
       "      <td>147.851506</td>\n",
       "    </tr>\n",
       "  </tbody>\n",
       "</table>\n",
       "</div>"
      ],
      "text/plain": [
       "         sum_scores_TFIDF\n",
       "fool           217.397630\n",
       "summer         209.501804\n",
       "matt           198.910788\n",
       "lighter        181.218969\n",
       "purs           147.851506"
      ]
     },
     "execution_count": 39,
     "metadata": {},
     "output_type": "execute_result"
    }
   ],
   "source": [
    "sum_scores.sort_values(by='sum_scores_TFIDF',ascending=False)[:5]"
   ]
  },
  {
   "cell_type": "code",
   "execution_count": 40,
   "id": "a980d213",
   "metadata": {},
   "outputs": [
    {
     "data": {
      "text/html": [
       "<div>\n",
       "<style scoped>\n",
       "    .dataframe tbody tr th:only-of-type {\n",
       "        vertical-align: middle;\n",
       "    }\n",
       "\n",
       "    .dataframe tbody tr th {\n",
       "        vertical-align: top;\n",
       "    }\n",
       "\n",
       "    .dataframe thead th {\n",
       "        text-align: right;\n",
       "    }\n",
       "</style>\n",
       "<table border=\"1\" class=\"dataframe\">\n",
       "  <thead>\n",
       "    <tr style=\"text-align: right;\">\n",
       "      <th></th>\n",
       "      <th>text</th>\n",
       "      <th>rating</th>\n",
       "      <th>recommend</th>\n",
       "    </tr>\n",
       "  </thead>\n",
       "  <tbody>\n",
       "    <tr>\n",
       "      <th>17214</th>\n",
       "      <td>Its a nice little set up but it's slow. I wish I would have investigated them a little more before just jumping in.. I like it but....</td>\n",
       "      <td>3.0</td>\n",
       "      <td>True</td>\n",
       "    </tr>\n",
       "    <tr>\n",
       "      <th>17215</th>\n",
       "      <td>As long as apps are downloaded before leaving WIFI they work great for road trips or hunting trips!. Great for road trips!</td>\n",
       "      <td>5.0</td>\n",
       "      <td>True</td>\n",
       "    </tr>\n",
       "    <tr>\n",
       "      <th>17216</th>\n",
       "      <td>Was a gift for our 8 year old daughter. Great for kids. Great for kids</td>\n",
       "      <td>5.0</td>\n",
       "      <td>True</td>\n",
       "    </tr>\n",
       "    <tr>\n",
       "      <th>17217</th>\n",
       "      <td>my grandkids love it. This is the 3 one we bought.. kids love it</td>\n",
       "      <td>5.0</td>\n",
       "      <td>True</td>\n",
       "    </tr>\n",
       "    <tr>\n",
       "      <th>17218</th>\n",
       "      <td>Great case ok tablet no Android play store. Weak micro usb port. It's isn't an straight out the box tablet. Had to install Android play store on it. And as far as the charging port goes I'm on my 3rd one but best buy are the best with their return policy.... Tablet not for kids</td>\n",
       "      <td>3.0</td>\n",
       "      <td>True</td>\n",
       "    </tr>\n",
       "  </tbody>\n",
       "</table>\n",
       "</div>"
      ],
      "text/plain": [
       "                                                                                                                                                                                                                                                                                         text  \\\n",
       "17214  Its a nice little set up but it's slow. I wish I would have investigated them a little more before just jumping in.. I like it but....                                                                                                                                                   \n",
       "17215  As long as apps are downloaded before leaving WIFI they work great for road trips or hunting trips!. Great for road trips!                                                                                                                                                               \n",
       "17216  Was a gift for our 8 year old daughter. Great for kids. Great for kids                                                                                                                                                                                                                   \n",
       "17217  my grandkids love it. This is the 3 one we bought.. kids love it                                                                                                                                                                                                                         \n",
       "17218  Great case ok tablet no Android play store. Weak micro usb port. It's isn't an straight out the box tablet. Had to install Android play store on it. And as far as the charging port goes I'm on my 3rd one but best buy are the best with their return policy.... Tablet not for kids   \n",
       "\n",
       "       rating recommend  \n",
       "17214  3.0     True      \n",
       "17215  5.0     True      \n",
       "17216  5.0     True      \n",
       "17217  5.0     True      \n",
       "17218  3.0     True      "
      ]
     },
     "execution_count": 40,
     "metadata": {},
     "output_type": "execute_result"
    }
   ],
   "source": [
    "pd.set_option('display.max_colwidth', 0)\n",
    "comments.head()"
   ]
  },
  {
   "cell_type": "code",
   "execution_count": 41,
   "id": "39c93a82",
   "metadata": {},
   "outputs": [
    {
     "name": "stdout",
     "output_type": "stream",
     "text": [
      "happy {'neg': 0.0, 'neu': 0.483, 'pos': 0.517, 'compound': 0.9522}\n",
      "sad {'neg': 0.714, 'neu': 0.286, 'pos': 0.0, 'compound': -0.9432}\n",
      "dont care - {'neg': 0.0, 'neu': 1.0, 'pos': 0.0, 'compound': 0.0}\n"
     ]
    }
   ],
   "source": [
    "#Sentiment Analysis\n",
    "from nltk.sentiment.vader import SentimentIntensityAnalyzer\n",
    "sid = SentimentIntensityAnalyzer()\n",
    "\n",
    "happy = \"I am Happy. this is so awesome. I love life. I will be in heaven\"\n",
    "#when you find free food in university\n",
    "print(\"happy \" + str(sid.polarity_scores(text)))\n",
    "\n",
    "\n",
    "sad = \"i hate this. I am mad this is stupid. I will kill you\"\n",
    "#when your professor gives you a ZERO in assignment\n",
    "print(\"sad \" + str(sid.polarity_scores(sad)))\n",
    "\n",
    "neut = \"I will come. You should go. This is blue color\"\n",
    "#when you state facts and nothing else\n",
    "print(\"dont care - \" + str(sid.polarity_scores(neut)))"
   ]
  },
  {
   "cell_type": "code",
   "execution_count": 42,
   "id": "5b51faec",
   "metadata": {},
   "outputs": [],
   "source": [
    "# Feature 1 : Sentiment compound value\n",
    "def sentiment(x):\n",
    "    score = sid.polarity_scores(x)\n",
    "    return score['compound']\n",
    "    \n",
    "#sentiment(happy)\n",
    "comments['sentiment']= comments['text'].apply(lambda x : sentiment(x))"
   ]
  },
  {
   "cell_type": "code",
   "execution_count": 43,
   "id": "39a69e37",
   "metadata": {},
   "outputs": [
    {
     "name": "stdout",
     "output_type": "stream",
     "text": [
      "0\n"
     ]
    },
    {
     "data": {
      "text/html": [
       "<div>\n",
       "<style scoped>\n",
       "    .dataframe tbody tr th:only-of-type {\n",
       "        vertical-align: middle;\n",
       "    }\n",
       "\n",
       "    .dataframe tbody tr th {\n",
       "        vertical-align: top;\n",
       "    }\n",
       "\n",
       "    .dataframe thead th {\n",
       "        text-align: right;\n",
       "    }\n",
       "</style>\n",
       "<table border=\"1\" class=\"dataframe\">\n",
       "  <thead>\n",
       "    <tr style=\"text-align: right;\">\n",
       "      <th></th>\n",
       "      <th>text</th>\n",
       "      <th>rating</th>\n",
       "      <th>recommend</th>\n",
       "      <th>sentiment</th>\n",
       "      <th>length</th>\n",
       "      <th>target_rec</th>\n",
       "    </tr>\n",
       "  </thead>\n",
       "  <tbody>\n",
       "    <tr>\n",
       "      <th>17214</th>\n",
       "      <td>Its a nice little set up but it's slow. I wish I would have investigated them a little more before just jumping in.. I like it but....</td>\n",
       "      <td>3.0</td>\n",
       "      <td>True</td>\n",
       "      <td>0.8271</td>\n",
       "      <td>29</td>\n",
       "      <td>1</td>\n",
       "    </tr>\n",
       "    <tr>\n",
       "      <th>17215</th>\n",
       "      <td>As long as apps are downloaded before leaving WIFI they work great for road trips or hunting trips!. Great for road trips!</td>\n",
       "      <td>5.0</td>\n",
       "      <td>True</td>\n",
       "      <td>0.8684</td>\n",
       "      <td>23</td>\n",
       "      <td>1</td>\n",
       "    </tr>\n",
       "    <tr>\n",
       "      <th>17216</th>\n",
       "      <td>Was a gift for our 8 year old daughter. Great for kids. Great for kids</td>\n",
       "      <td>5.0</td>\n",
       "      <td>True</td>\n",
       "      <td>0.9022</td>\n",
       "      <td>15</td>\n",
       "      <td>1</td>\n",
       "    </tr>\n",
       "    <tr>\n",
       "      <th>17217</th>\n",
       "      <td>my grandkids love it. This is the 3 one we bought.. kids love it</td>\n",
       "      <td>5.0</td>\n",
       "      <td>True</td>\n",
       "      <td>0.8555</td>\n",
       "      <td>14</td>\n",
       "      <td>1</td>\n",
       "    </tr>\n",
       "    <tr>\n",
       "      <th>17218</th>\n",
       "      <td>Great case ok tablet no Android play store. Weak micro usb port. It's isn't an straight out the box tablet. Had to install Android play store on it. And as far as the charging port goes I'm on my 3rd one but best buy are the best with their return policy.... Tablet not for kids</td>\n",
       "      <td>3.0</td>\n",
       "      <td>True</td>\n",
       "      <td>0.9457</td>\n",
       "      <td>58</td>\n",
       "      <td>1</td>\n",
       "    </tr>\n",
       "  </tbody>\n",
       "</table>\n",
       "</div>"
      ],
      "text/plain": [
       "                                                                                                                                                                                                                                                                                         text  \\\n",
       "17214  Its a nice little set up but it's slow. I wish I would have investigated them a little more before just jumping in.. I like it but....                                                                                                                                                   \n",
       "17215  As long as apps are downloaded before leaving WIFI they work great for road trips or hunting trips!. Great for road trips!                                                                                                                                                               \n",
       "17216  Was a gift for our 8 year old daughter. Great for kids. Great for kids                                                                                                                                                                                                                   \n",
       "17217  my grandkids love it. This is the 3 one we bought.. kids love it                                                                                                                                                                                                                         \n",
       "17218  Great case ok tablet no Android play store. Weak micro usb port. It's isn't an straight out the box tablet. Had to install Android play store on it. And as far as the charging port goes I'm on my 3rd one but best buy are the best with their return policy.... Tablet not for kids   \n",
       "\n",
       "       rating recommend  sentiment  length  target_rec  \n",
       "17214  3.0     True      0.8271     29      1           \n",
       "17215  5.0     True      0.8684     23      1           \n",
       "17216  5.0     True      0.9022     15      1           \n",
       "17217  5.0     True      0.8555     14      1           \n",
       "17218  3.0     True      0.9457     58      1           "
      ]
     },
     "execution_count": 43,
     "metadata": {},
     "output_type": "execute_result"
    }
   ],
   "source": [
    "# Feature 2 : Length of string\n",
    "\n",
    "comments['length'] = comments['text'].apply(lambda x : len(re.split('\\W+',x)))\n",
    "comments[comments['rating']==5].head(10)\n",
    "\n",
    "# before we proceed - we need to convert all true >> 1 and false as 0\n",
    "def convert(x):\n",
    "    \n",
    "    if x==True:\n",
    "        return 1\n",
    "    else :\n",
    "        return 0\n",
    "    \n",
    "print(convert(\"False\"))\n",
    "\n",
    "comments['target_rec'] = comments['recommend'].apply(lambda x : convert(x))\n",
    "comments.head(5)"
   ]
  },
  {
   "cell_type": "code",
   "execution_count": 44,
   "id": "1d47f492",
   "metadata": {},
   "outputs": [
    {
     "data": {
      "text/html": [
       "<div>\n",
       "<style scoped>\n",
       "    .dataframe tbody tr th:only-of-type {\n",
       "        vertical-align: middle;\n",
       "    }\n",
       "\n",
       "    .dataframe tbody tr th {\n",
       "        vertical-align: top;\n",
       "    }\n",
       "\n",
       "    .dataframe thead th {\n",
       "        text-align: right;\n",
       "    }\n",
       "</style>\n",
       "<table border=\"1\" class=\"dataframe\">\n",
       "  <thead>\n",
       "    <tr style=\"text-align: right;\">\n",
       "      <th></th>\n",
       "      <th>text</th>\n",
       "      <th>rating</th>\n",
       "      <th>recommend</th>\n",
       "      <th>sentiment</th>\n",
       "      <th>length</th>\n",
       "      <th>target_rec</th>\n",
       "    </tr>\n",
       "  </thead>\n",
       "  <tbody>\n",
       "    <tr>\n",
       "      <th>17220</th>\n",
       "      <td>This product wouldn't turn on nor charge and then store couldn't locate another one for me.. Product Issues</td>\n",
       "      <td>1.0</td>\n",
       "      <td>False</td>\n",
       "      <td>0.0000</td>\n",
       "      <td>20</td>\n",
       "      <td>0</td>\n",
       "    </tr>\n",
       "    <tr>\n",
       "      <th>17423</th>\n",
       "      <td>Would not take a charge, good thing i tried before wrapping it for Christmas.. Had to return this on Christmas eve day</td>\n",
       "      <td>1.0</td>\n",
       "      <td>False</td>\n",
       "      <td>-0.3412</td>\n",
       "      <td>22</td>\n",
       "      <td>0</td>\n",
       "    </tr>\n",
       "    <tr>\n",
       "      <th>17443</th>\n",
       "      <td>I didon't care for this tablet, downloading apps outside of Amazon was really confusing.. Don't like...too hard to download other apps</td>\n",
       "      <td>1.0</td>\n",
       "      <td>False</td>\n",
       "      <td>-0.1611</td>\n",
       "      <td>24</td>\n",
       "      <td>0</td>\n",
       "    </tr>\n",
       "    <tr>\n",
       "      <th>17729</th>\n",
       "      <td>I am really disappointed in this Kindle....I have had many kindles, but I wanted somwthing I thoughtnwould be simple. This kindle doesn't show all my books that are in my cloud..it doesn't matter that they aren't in my device but they should still show up in my cloud...I have to go to my amazon account and transfer the book I want to my device.. Great for someone who doesn't have alot of books</td>\n",
       "      <td>1.0</td>\n",
       "      <td>False</td>\n",
       "      <td>0.7809</td>\n",
       "      <td>80</td>\n",
       "      <td>0</td>\n",
       "    </tr>\n",
       "    <tr>\n",
       "      <th>17887</th>\n",
       "      <td>Paper white does not allow you do use books from the library as you cannot load apps. Only books from Amazon are available to read.. Unable to access library</td>\n",
       "      <td>1.0</td>\n",
       "      <td>False</td>\n",
       "      <td>0.0088</td>\n",
       "      <td>29</td>\n",
       "      <td>0</td>\n",
       "    </tr>\n",
       "  </tbody>\n",
       "</table>\n",
       "</div>"
      ],
      "text/plain": [
       "                                                                                                                                                                                                                                                                                                                                                                                                               text  \\\n",
       "17220  This product wouldn't turn on nor charge and then store couldn't locate another one for me.. Product Issues                                                                                                                                                                                                                                                                                                    \n",
       "17423  Would not take a charge, good thing i tried before wrapping it for Christmas.. Had to return this on Christmas eve day                                                                                                                                                                                                                                                                                         \n",
       "17443  I didon't care for this tablet, downloading apps outside of Amazon was really confusing.. Don't like...too hard to download other apps                                                                                                                                                                                                                                                                         \n",
       "17729  I am really disappointed in this Kindle....I have had many kindles, but I wanted somwthing I thoughtnwould be simple. This kindle doesn't show all my books that are in my cloud..it doesn't matter that they aren't in my device but they should still show up in my cloud...I have to go to my amazon account and transfer the book I want to my device.. Great for someone who doesn't have alot of books   \n",
       "17887  Paper white does not allow you do use books from the library as you cannot load apps. Only books from Amazon are available to read.. Unable to access library                                                                                                                                                                                                                                                  \n",
       "\n",
       "       rating recommend  sentiment  length  target_rec  \n",
       "17220  1.0     False     0.0000     20      0           \n",
       "17423  1.0     False    -0.3412     22      0           \n",
       "17443  1.0     False    -0.1611     24      0           \n",
       "17729  1.0     False     0.7809     80      0           \n",
       "17887  1.0     False     0.0088     29      0           "
      ]
     },
     "execution_count": 44,
     "metadata": {},
     "output_type": "execute_result"
    }
   ],
   "source": [
    "comments[comments['rating']==1].head(5)"
   ]
  },
  {
   "cell_type": "code",
   "execution_count": 45,
   "id": "7170b819",
   "metadata": {},
   "outputs": [
    {
     "data": {
      "text/plain": [
       "[(0.037144518722604894, 'sentiment'),\n",
       " (0.012449555612131008, 'cool'),\n",
       " (0.012080658854928783, 'rightfirst'),\n",
       " (0.01068876422697111, 'matt'),\n",
       " (0.010438589958182372, 'squeezi'),\n",
       " (0.010170630204589037, 'length'),\n",
       " (0.009134663474989963, 'liketoo'),\n",
       " (0.008767708821384028, 'summer'),\n",
       " (0.008158077323670195, 'huge'),\n",
       " (0.007917382850513001, 'rough')]"
      ]
     },
     "execution_count": 45,
     "metadata": {},
     "output_type": "execute_result"
    }
   ],
   "source": [
    "#Predicting Recommendation\n",
    "from sklearn.ensemble import RandomForestClassifier\n",
    "from sklearn.metrics import precision_recall_fscore_support as score\n",
    "from sklearn.model_selection import train_test_split\n",
    "\n",
    "# need to reset index of the comments column to match with textfeatures\n",
    "new_sentiment = comments.sentiment.reset_index()['sentiment']\n",
    "new_length = comments.length.reset_index()['length']\n",
    "\n",
    "x_features = pd.concat([new_sentiment,new_length,\n",
    "                        pd.DataFrame(textfeatures.toarray(),\n",
    "                        columns=vectstem.vocabulary_)],axis=1)\n",
    "x_train, x_test, y_train, y_test = train_test_split(x_features,comments.target_rec,test_size=0.2)\n",
    "\n",
    "rf = RandomForestClassifier(n_jobs=-1,n_estimators=50,max_depth=90)\n",
    "rfmodel=rf.fit(x_train,y_train)\n",
    "\n",
    "y_pred = rfmodel.predict(x_test)\n",
    "sorted(zip(rfmodel.feature_importances_,x_train.columns),reverse=True)[0:10]"
   ]
  },
  {
   "cell_type": "code",
   "execution_count": 46,
   "id": "f9f87019",
   "metadata": {},
   "outputs": [
    {
     "name": "stdout",
     "output_type": "stream",
     "text": [
      "Precision: 0.972 / Recall :1.0 / Accuracy 0.972 \n"
     ]
    }
   ],
   "source": [
    "precision, recall, fscore , support = score(y_test,y_pred,average='binary')\n",
    "print('Precision: {} / Recall :{} / Accuracy {} '.format(round(precision,3),\n",
    "                                                         round(recall,3),\n",
    "                                                         round((y_pred==y_test).sum()/len(y_test),3)))"
   ]
  },
  {
   "cell_type": "code",
   "execution_count": 47,
   "id": "e94ceecc",
   "metadata": {},
   "outputs": [
    {
     "data": {
      "image/png": "[encoded data removed]",
      "text/plain": [
       "<Figure size 432x288 with 1 Axes>"
      ]
     },
     "metadata": {
      "needs_background": "light"
     },
     "output_type": "display_data"
    }
   ],
   "source": [
    "def formatt(x):\n",
    "    if x == 'neg':\n",
    "        return 0\n",
    "    if x == 0:\n",
    "        return 0\n",
    "    return 1\n",
    "vfunc = np.vectorize(formatt)\n",
    "\n",
    "cmp = 0\n",
    "colors = ['b', 'g', 'y', 'm', 'k']\n",
    "for model, predicted in prediction.items():\n",
    "    if model not in 'Naive':\n",
    "        false_positive_rate, true_positive_rate, thresholds = roc_curve(test[\"senti\"].map(vfunc), predicted)\n",
    "        roc_auc = auc(false_positive_rate, true_positive_rate)\n",
    "        plt.plot(false_positive_rate, true_positive_rate, colors[cmp], label='%s: AUC %0.2f'% (model,roc_auc))\n",
    "        cmp += 1\n",
    "\n",
    "plt.title('Classifiers comparaison with ROC')\n",
    "plt.legend(loc='lower right')\n",
    "plt.plot([0,1],[0,1],'r--')\n",
    "plt.xlim([-0.1,1.2])\n",
    "plt.ylim([-0.1,1.2])\n",
    "plt.ylabel('True Positive Rate')\n",
    "plt.xlabel('False Positive Rate')\n",
    "plt.show()"
   ]
  },
  {
   "cell_type": "code",
   "execution_count": 48,
   "id": "5303e262",
   "metadata": {},
   "outputs": [],
   "source": [
    "test.senti = test.senti.replace([\"pos\" , \"neg\"] , [True , False] )"
   ]
  },
  {
   "cell_type": "code",
   "execution_count": 49,
   "id": "7b5d01e8",
   "metadata": {},
   "outputs": [
    {
     "name": "stdout",
     "output_type": "stream",
     "text": [
      "Sample estimated as POS: negative prob 0.000000, positive prob 1.000000\n",
      "Sample estimated as NEG: negative prob 0.994523, positive prob 0.005477\n",
      "Sample estimated as NEG: negative prob 0.982762, positive prob 0.017238\n",
      "Sample estimated as POS: negative prob 0.004287, positive prob 0.995713\n"
     ]
    }
   ],
   "source": [
    "def test_sample(model, sample):\n",
    "    sample_counts = count_vect.transform([sample])\n",
    "    sample_tfidf = tfidf_transformer.transform(sample_counts)\n",
    "    result = model.predict(sample_tfidf)[0]\n",
    "    prob = model.predict_proba(sample_tfidf)[0]\n",
    "    print(\"Sample estimated as %s: negative prob %f, positive prob %f\" % (result.upper(), prob[0], prob[1]))\n",
    "\n",
    "test_sample(logreg, \"The product was good and easy to  use\")\n",
    "test_sample(logreg, \"the whole experience was horrible and product is worst\")\n",
    "test_sample(logreg, \"product is not good\")\n",
    "test_sample(logreg, \"The product is awesome, but totally waste\")"
   ]
  },
  {
   "cell_type": "code",
   "execution_count": 70,
   "id": "7adfbd14",
   "metadata": {},
   "outputs": [
    {
     "data": {
      "text/html": [
       "<div>\n",
       "<style scoped>\n",
       "    .dataframe tbody tr th:only-of-type {\n",
       "        vertical-align: middle;\n",
       "    }\n",
       "\n",
       "    .dataframe tbody tr th {\n",
       "        vertical-align: top;\n",
       "    }\n",
       "\n",
       "    .dataframe thead th {\n",
       "        text-align: right;\n",
       "    }\n",
       "</style>\n",
       "<table border=\"1\" class=\"dataframe\">\n",
       "  <thead>\n",
       "    <tr style=\"text-align: right;\">\n",
       "      <th></th>\n",
       "      <th>rating</th>\n",
       "      <th>text</th>\n",
       "      <th>title</th>\n",
       "      <th>username</th>\n",
       "      <th>Summary_Clean</th>\n",
       "      <th>words</th>\n",
       "      <th>Naive</th>\n",
       "      <th>multi</th>\n",
       "      <th>log</th>\n",
       "    </tr>\n",
       "  </thead>\n",
       "  <tbody>\n",
       "    <tr>\n",
       "      <th>0</th>\n",
       "      <td>NaN</td>\n",
       "      <td>The Kindle is my first e-ink reader. I own an iPad, an iPhone, and have owned a Windows-based phone in the past that I used as an ereader.My overall impression of the device is good.The good:I'd honestly rather read linear (read from page one to the end, one page at a time) fiction from it than a book, because I can't always get comfortable with a book. Hardcovers are sometimes a bit heavy, and paperbacks don't always lie open easily. The Kindle is incredibly light and thin. I can hold it in one hand easily. The page turn buttons are conveniently located. Page-turns aren't instant, but they're probably quicker than turning a physical page in a printed book (there are just a lot more page-turns unless you choose a small font). The contrast is better than other ereaders I've seen. There is zero eye strain in good light. My eyesight isn't the greatest and I like being able to increase the font size and read without glasses. I love being able to browse the Kindle store and read samples before deciding to purchase. The experimental browser is surprisingly usable, but isn't great. It is useful for browsing wikipedia and blogs. The biggest drawback to the browser is the awkward pointer navigation, using the 5-way pad. It syncs your furthest read page over the internet so you can pick up where you left off using your iPhone or iPad.The so-so:The kindle store could use more categories and sorting options. You can't sort by top rated, and there is no category for alternate histories, for example. Finding a very-specific type of fiction relies on keyword searches, which don't do a great job. The wifi sometimes doesn't connect before it times-out.Read more</td>\n",
       "      <td>Worth the money. Not perfect, but very very good for start to finish novels in good light</td>\n",
       "      <td>Jeffrey Stanley</td>\n",
       "      <td>the kindle is my first e ink reader i own an ipad an iphone and have owned a windows based phone in the past that i used as an ereader my overall impression of the device is good the good i d honestly rather read linear read from page one to the end one page at a time fiction from it than a book because i can t always get comfortable with a book hardcovers are sometimes a bit heavy and paperbacks don t always lie open easily the kindle is incredibly light and thin i can hold it in one hand easily the page turn buttons are conveniently located page turns aren t instant but they re probably quicker than turning a physical page in a printed book there are just a lot more page turns unless you choose a small font the contrast is better than other ereaders i ve seen there is zero eye strain in good light my eyesight isn t the greatest and i like being able to increase the font size and read without glasses i love being able to browse the kindle store and read samples before deciding to purchase the experimental browser is surprisingly usable but isn t great it is useful for browsing wikipedia and blogs the biggest drawback to the browser is the awkward pointer navigation using the way pad it syncs your furthest read page over the internet so you can pick up where you left off using your iphone or ipad the so so the kindle store could use more categories and sorting options you can t sort by top rated and there is no category for alternate histories for example finding a very specific type of fiction relies on keyword searches which don t do a great job the wifi sometimes doesn t connect before it times out read more</td>\n",
       "      <td>[the, kindle, is, my, first, e, ink, reader, i, own, an, ipad, an, iphone, and, have, owned, a, windows, based, phone, in, the, past, that, i, used, as, an, ereader, my, overall, impression, of, the, device, is, good, the, good, i, d, honestly, rather, read, linear, read, from, page, one, to, the, end, one, page, at, a, time, fiction, from, it, than, a, book, because, i, can, t, always, get, comfortable, with, a, book, hardcovers, are, sometimes, a, bit, heavy, and, paperbacks, don, t, always, lie, open, easily, the, kindle, is, incredibly, light, and, thin, i, can, hold, it, in, ...]</td>\n",
       "      <td>neg</td>\n",
       "      <td>pos</td>\n",
       "      <td>pos</td>\n",
       "    </tr>\n",
       "    <tr>\n",
       "      <th>1</th>\n",
       "      <td>NaN</td>\n",
       "      <td>I'm a first-time Kindle owner, so I have nothing to compare the latest Kindle to. I don't own a Nook. I don't own an iPad (and, in any case, that's comparing apples to oranges). I don't have a Sony e-reader. 'This will be a short, simple review.I received my Kindle about a week ago and haven't been able to put it down.Things I like about my Kindle1. The e-ink display is amazing.2. Using the 5-way controller is simple and effective.3. Page turn speeds are faster than I thought they would be.4. It's lightweight, even with the attached cover (I have an Amazon cover with a built-in light)5. Page-turning buttons are quiet and well-placed.6. Recharge time is fast.7. I can order a book and start reading it in less than 60 seconds. Nice!8. Portability... I can take 3,000 books with me when I travel for work and not require additional suitcases or baggage fees.Things I'm not too keen on1. Buttons are too close together and are laid out oddly.2. Lack of individual number buttons is frustrating.3. Power button on the bottom Not a bad thing. Just an odd thing. (Same for the headphone input). I usually rest the bottom of a book on my lap when I read.Things I hope change in the future1. How books are organized... When I put a book in a collection (which is actually a tag), it still appears in the main list. It's not actually moved, it's merely associated.2. The look of the main screen. I'd like folders or some other way to display collections.3. Ability to create personal screen savers.4. E-book pricing, though Amazon has little control over this.Read more</td>\n",
       "      <td>I Wanted a Dedicated E-Reader, and That's What I Got</td>\n",
       "      <td>Matthew Coenen</td>\n",
       "      <td>i m a first time kindle owner so i have nothing to compare the latest kindle to i don t own a nook i don t own an ipad and in any case that s comparing apples to oranges i don t have a sony e reader this will be a short simple review i received my kindle about a week ago and haven t been able to put it down things i like about my kindle the e ink display is amazing using the way controller is simple and effective page turn speeds are faster than i thought they would be it s lightweight even with the attached cover i have an amazon cover with a built in light page turning buttons are quiet and well placed recharge time is fast i can order a book and start reading it in less than seconds nice portability i can take books with me when i travel for work and not require additional suitcases or baggage fees things i m not too keen on buttons are too close together and are laid out oddly lack of individual number buttons is frustrating power button on the bottom not a bad thing just an odd thing same for the headphone input i usually rest the bottom of a book on my lap when i read things i hope change in the future how books are organized when i put a book in a collection which is actually a tag it still appears in the main list it s not actually moved it s merely associated the look of the main screen i d like folders or some other way to display collections ability to create personal screen savers e book pricing though amazon has little control over this read more</td>\n",
       "      <td>[i, m, a, first, time, kindle, owner, so, i, have, nothing, to, compare, the, latest, kindle, to, i, don, t, own, a, nook, i, don, t, own, an, ipad, and, in, any, case, that, s, comparing, apples, to, oranges, i, don, t, have, a, sony, e, reader, this, will, be, a, short, simple, review, i, received, my, kindle, about, a, week, ago, and, haven, t, been, able, to, put, it, down, things, i, like, about, my, kindle, the, e, ink, display, is, amazing, using, the, way, controller, is, simple, and, effective, page, turn, speeds, are, faster, than, i, thought, they, ...]</td>\n",
       "      <td>neg</td>\n",
       "      <td>pos</td>\n",
       "      <td>pos</td>\n",
       "    </tr>\n",
       "    <tr>\n",
       "      <th>2</th>\n",
       "      <td>NaN</td>\n",
       "      <td>UPDATE NOVEMBER 2011:My review is now over a year old, as is the Kindle Keyboard as Amazon calls it now. There are newer models: the basic, cheapie Kindle and the Kindle Touch, and of course the Kindle Fire quasi-tablet.Each of these models is an excellent choice. Whichever one is right for you just depends on your preferences.The 3 e-ink Kindles are Kindle Keyboard (this one), Kindle Touch (the newest flagship model), and the basic Kindle. All 3 of them have EXACTLY THE SAME 6 DISPLAY, with the same sharp typeface and high contrast that reads like ink on paper with no eyestrain. The Kindle Keyboard is the oldest of these models, and I got one of the first ones when they came out in August 2010.I still absolutely LOVE my Kindle Keyboard and use it almost every day. I have read dozens of books on it. I like the newer models, they have some neat features, but the experience of reading a book on them is no better or worse than on my 1-year-old Kindle Keyboard. Page turns are now smoother and faster on the newest Kindles, but the difference is not enough to make it worth the cost of upgrading, in my opinion.The touch-screen interface of the Kindle Touch is pretty neat. But, unlike my iPad, I only use my Kindle to read books, and reading books is just as nice on any of the current Kindle models. I don't consider the touch screen a must have feature, and I'm normally obsessed with having the latest version of every tech product I own.For that reason, I think the cheapest Kindle is an excellent choice.Read more</td>\n",
       "      <td>Kindle vs. Nook (updated)</td>\n",
       "      <td>Ron Cronovich</td>\n",
       "      <td>update november my review is now over a year old as is the kindle keyboard as amazon calls it now there are newer models the basic cheapie kindle and the kindle touch and of course the kindle fire quasi tablet each of these models is an excellent choice whichever one is right for you just depends on your preferences the e ink kindles are kindle keyboard this one kindle touch the newest flagship model and the basic kindle all of them have exactly the same display with the same sharp typeface and high contrast that reads like ink on paper with no eyestrain the kindle keyboard is the oldest of these models and i got one of the first ones when they came out in august i still absolutely love my kindle keyboard and use it almost every day i have read dozens of books on it i like the newer models they have some neat features but the experience of reading a book on them is no better or worse than on my year old kindle keyboard page turns are now smoother and faster on the newest kindles but the difference is not enough to make it worth the cost of upgrading in my opinion the touch screen interface of the kindle touch is pretty neat but unlike my ipad i only use my kindle to read books and reading books is just as nice on any of the current kindle models i don t consider the touch screen a must have feature and i m normally obsessed with having the latest version of every tech product i own for that reason i think the cheapest kindle is an excellent choice read more</td>\n",
       "      <td>[update, november, my, review, is, now, over, a, year, old, as, is, the, kindle, keyboard, as, amazon, calls, it, now, there, are, newer, models, the, basic, cheapie, kindle, and, the, kindle, touch, and, of, course, the, kindle, fire, quasi, tablet, each, of, these, models, is, an, excellent, choice, whichever, one, is, right, for, you, just, depends, on, your, preferences, the, e, ink, kindles, are, kindle, keyboard, this, one, kindle, touch, the, newest, flagship, model, and, the, basic, kindle, all, of, them, have, exactly, the, same, display, with, the, same, sharp, typeface, and, high, contrast, that, reads, like, ink, on, paper, ...]</td>\n",
       "      <td>neg</td>\n",
       "      <td>pos</td>\n",
       "      <td>pos</td>\n",
       "    </tr>\n",
       "    <tr>\n",
       "      <th>3</th>\n",
       "      <td>NaN</td>\n",
       "      <td>I'm a first-time Kindle owner, so I have nothing to compare the latest Kindle to. I don't own a Nook. I don't own an iPad (and, in any case, that's comparing apples to oranges). I don't have a Sony e-reader. 'This will be a short, simple review.I received my Kindle about a week ago and haven't been able to put it down.Things I like about my Kindle1. The e-ink display is amazing.2. Using the 5-way controller is simple and effective.3. Page turn speeds are faster than I thought they would be.4. It's lightweight, even with the attached cover (I have an Amazon cover with a built-in light)5. Page-turning buttons are quiet and well-placed.6. Recharge time is fast.7. I can order a book and start reading it in less than 60 seconds. Nice!8. Portability... I can take 3,000 books with me when I travel for work and not require additional suitcases or baggage fees.Things I'm not too keen on1. Buttons are too close together and are laid out oddly.2. Lack of individual number buttons is frustrating.3. Power button on the bottom Not a bad thing. Just an odd thing. (Same for the headphone input). I usually rest the bottom of a book on my lap when I read.Things I hope change in the future1. How books are organized... When I put a book in a collection (which is actually a tag), it still appears in the main list. It's not actually moved, it's merely associated.2. The look of the main screen. I'd like folders or some other way to display collections.3. Ability to create personal screen savers.4. E-book pricing, though Amazon has little control over this. Still, most titles are the same price as or less than their hardback/paperback counterparts.Read more</td>\n",
       "      <td>I Wanted a Dedicated E-Reader, and That's What I Got</td>\n",
       "      <td>Matthew Coenen</td>\n",
       "      <td>i m a first time kindle owner so i have nothing to compare the latest kindle to i don t own a nook i don t own an ipad and in any case that s comparing apples to oranges i don t have a sony e reader this will be a short simple review i received my kindle about a week ago and haven t been able to put it down things i like about my kindle the e ink display is amazing using the way controller is simple and effective page turn speeds are faster than i thought they would be it s lightweight even with the attached cover i have an amazon cover with a built in light page turning buttons are quiet and well placed recharge time is fast i can order a book and start reading it in less than seconds nice portability i can take books with me when i travel for work and not require additional suitcases or baggage fees things i m not too keen on buttons are too close together and are laid out oddly lack of individual number buttons is frustrating power button on the bottom not a bad thing just an odd thing same for the headphone input i usually rest the bottom of a book on my lap when i read things i hope change in the future how books are organized when i put a book in a collection which is actually a tag it still appears in the main list it s not actually moved it s merely associated the look of the main screen i d like folders or some other way to display collections ability to create personal screen savers e book pricing though amazon has little control over this still most titles are the same price as or less than their hardback paperback counterparts read more</td>\n",
       "      <td>[i, m, a, first, time, kindle, owner, so, i, have, nothing, to, compare, the, latest, kindle, to, i, don, t, own, a, nook, i, don, t, own, an, ipad, and, in, any, case, that, s, comparing, apples, to, oranges, i, don, t, have, a, sony, e, reader, this, will, be, a, short, simple, review, i, received, my, kindle, about, a, week, ago, and, haven, t, been, able, to, put, it, down, things, i, like, about, my, kindle, the, e, ink, display, is, amazing, using, the, way, controller, is, simple, and, effective, page, turn, speeds, are, faster, than, i, thought, they, ...]</td>\n",
       "      <td>neg</td>\n",
       "      <td>pos</td>\n",
       "      <td>pos</td>\n",
       "    </tr>\n",
       "    <tr>\n",
       "      <th>4</th>\n",
       "      <td>NaN</td>\n",
       "      <td>I woke up to a nice surprise this morning: a new kindle as a gift. I have an iPad and a Kindle DX, but I guess someone heard my complaints of them being too heavy and difficult to do extended-reading on. Don't get me wrong, I absolutely love my iPad and DX, but this new generation of Kindle is perfect for reading outside and for long periods of time. The iPad gets completely washed out in sunlight and often irritates my eyes staring at it for more than a couple of hours. The DX was my go-to device for those extended/outdoor reading periods, but now I have a new friend for reading novels. Instead of a replacement, this one seems more like a companion to the other devices and is a different class. The iPad works great for web browsing, shopping, productivity, games, etc while the Kindle falls short in those areas. The Kindle works great for reading novels, where the iPad falls short. For those that love to do extended-reading of magazines, newspapers, research articles, etc, I find that the DX is the go-to device.Without a doubt, the size and weight of the new kindle is the biggest draw for me. It's smaller than the last edition by a significant margin. I've played around with the Kindle 2 and was impressed, but now looking at the size of the new Kindle, I'm blown away. It's the absolute perfect size. Smaller would be unmanageable and larger wouldn't feel nearly as good. This is a device that you can hold up, read, and just forget that it's there. Compared to other e-readers I've tried, it's much smaller and much lighter.One of my biggest complaints about the previous generation Kindles and the DX is the speed. It sometimes takes a while after you push next page' for it to actually change.Read more</td>\n",
       "      <td>Not the perfect do-it-all device, but very close to being the perfect e-reading device!</td>\n",
       "      <td>C. Tipton</td>\n",
       "      <td>i woke up to a nice surprise this morning a new kindle as a gift i have an ipad and a kindle dx but i guess someone heard my complaints of them being too heavy and difficult to do extended reading on don t get me wrong i absolutely love my ipad and dx but this new generation of kindle is perfect for reading outside and for long periods of time the ipad gets completely washed out in sunlight and often irritates my eyes staring at it for more than a couple of hours the dx was my go to device for those extended outdoor reading periods but now i have a new friend for reading novels instead of a replacement this one seems more like a companion to the other devices and is a different class the ipad works great for web browsing shopping productivity games etc while the kindle falls short in those areas the kindle works great for reading novels where the ipad falls short for those that love to do extended reading of magazines newspapers research articles etc i find that the dx is the go to device without a doubt the size and weight of the new kindle is the biggest draw for me it s smaller than the last edition by a significant margin i ve played around with the kindle and was impressed but now looking at the size of the new kindle i m blown away it s the absolute perfect size smaller would be unmanageable and larger wouldn t feel nearly as good this is a device that you can hold up read and just forget that it s there compared to other e readers i ve tried it s much smaller and much lighter one of my biggest complaints about the previous generation kindles and the dx is the speed it sometimes takes a while after you push next page for it to actually change read more</td>\n",
       "      <td>[i, woke, up, to, a, nice, surprise, this, morning, a, new, kindle, as, a, gift, i, have, an, ipad, and, a, kindle, dx, but, i, guess, someone, heard, my, complaints, of, them, being, too, heavy, and, difficult, to, do, extended, reading, on, don, t, get, me, wrong, i, absolutely, love, my, ipad, and, dx, but, this, new, generation, of, kindle, is, perfect, for, reading, outside, and, for, long, periods, of, time, the, ipad, gets, completely, washed, out, in, sunlight, and, often, irritates, my, eyes, staring, at, it, for, more, than, a, couple, of, hours, the, dx, was, my, go, to, ...]</td>\n",
       "      <td>neg</td>\n",
       "      <td>pos</td>\n",
       "      <td>pos</td>\n",
       "    </tr>\n",
       "    <tr>\n",
       "      <th>5</th>\n",
       "      <td>NaN</td>\n",
       "      <td>The Kindle is my first e-ink reader. I own an iPad, an iPhone, and have owned a Windows-based phone in the past that I used as an ereader.br /br /My overall impression of the device is good.br /br /The good:br /I'd honestly rather read linear (read from page one to the end, one page at a time) fiction from it than a book, because I can't always get comfortable with a book. Hardcovers are sometimes a bit heavy, and paperbacks don't always lie open easily. The Kindle is incredibly light and thin. I can hold it in one hand easily. The page turn buttons are conveniently located. Page-turns aren't instant, but they're probably quicker than turning a physical page in a printed book (there are just a lot more page-turns unless you choose a small font). The contrast is better than other ereaders I've seen. There is zero eye strain in good light. My eyesight isn't the greatest and I like being able to increase the font size and read without glasses. I love being able to browse the Kindle store and read samples before deciding to purchase. The experimental browser is surprisingly usable, but isn't great. It is useful for browsing wikipedia and blogs. The biggest drawback to the browser is the awkward pointer navigation, using the 5-way pad. It syncs your furthest read page over the internet so you can pick up where you left off using your iPhone or iPad.br /br /The so-so:br /The kindle store could use more categories and sorting options. You can't sort by top rated, and there is no category for alternate histories, for example. Finding a very-specific type of fiction relies on keyword searches, which don't do a great job. The wifi sometimes doesn't connect before it times-out.Read more</td>\n",
       "      <td>Worth the money. Not perfect, but very very good for start to finish novels in good light</td>\n",
       "      <td>Jeffrey Stanley</td>\n",
       "      <td>the kindle is my first e ink reader i own an ipad an iphone and have owned a windows based phone in the past that i used as an ereader br br my overall impression of the device is good br br the good br i d honestly rather read linear read from page one to the end one page at a time fiction from it than a book because i can t always get comfortable with a book hardcovers are sometimes a bit heavy and paperbacks don t always lie open easily the kindle is incredibly light and thin i can hold it in one hand easily the page turn buttons are conveniently located page turns aren t instant but they re probably quicker than turning a physical page in a printed book there are just a lot more page turns unless you choose a small font the contrast is better than other ereaders i ve seen there is zero eye strain in good light my eyesight isn t the greatest and i like being able to increase the font size and read without glasses i love being able to browse the kindle store and read samples before deciding to purchase the experimental browser is surprisingly usable but isn t great it is useful for browsing wikipedia and blogs the biggest drawback to the browser is the awkward pointer navigation using the way pad it syncs your furthest read page over the internet so you can pick up where you left off using your iphone or ipad br br the so so br the kindle store could use more categories and sorting options you can t sort by top rated and there is no category for alternate histories for example finding a very specific type of fiction relies on keyword searches which don t do a great job the wifi sometimes doesn t connect before it times out read more</td>\n",
       "      <td>[the, kindle, is, my, first, e, ink, reader, i, own, an, ipad, an, iphone, and, have, owned, a, windows, based, phone, in, the, past, that, i, used, as, an, ereader, br, br, my, overall, impression, of, the, device, is, good, br, br, the, good, br, i, d, honestly, rather, read, linear, read, from, page, one, to, the, end, one, page, at, a, time, fiction, from, it, than, a, book, because, i, can, t, always, get, comfortable, with, a, book, hardcovers, are, sometimes, a, bit, heavy, and, paperbacks, don, t, always, lie, open, easily, the, kindle, is, incredibly, light, and, thin, ...]</td>\n",
       "      <td>neg</td>\n",
       "      <td>pos</td>\n",
       "      <td>pos</td>\n",
       "    </tr>\n",
       "    <tr>\n",
       "      <th>6</th>\n",
       "      <td>NaN</td>\n",
       "      <td>UPDATE NOVEMBER 2011:br /br /My review is now over a year old, as is the Kindle Keyboard as Amazon calls it now. There are newer models: the basic, cheapie Kindle and the Kindle Touch, and of course the Kindle Fire quasi-tablet.br /br /Each of these models is an excellent choice. Whichever one is right for you just depends on your preferences.br /br /The 3 e-ink Kindles are Kindle Keyboard (this one), Kindle Touch (the newest flagship model), and the basic Kindle. All 3 of them have EXACTLY THE SAME 6 DISPLAY, with the same sharp typeface and high contrast that reads like ink on paper with no eyestrain. The Kindle Keyboard is the oldest of these models, and I got one of the first ones when they came out in August 2010.br /br /I still absolutely LOVE my Kindle Keyboard and use it almost every day. I have read dozens of books on it. I like the newer models, they have some neat features, but the experience of reading a book on them is no better or worse than on my 1-year-old Kindle Keyboard. Page turns are now smoother and faster on the newest Kindles, but the difference is not enough to make it worth the cost of upgrading, in my opinion.br /br /The touch-screen interface of the Kindle Touch is pretty neat. But, unlike my iPad, I only use my Kindle to read books, and reading books is just as nice on any of the current Kindle models. I don't consider the touch screen a must have feature, and I'm normally obsessed with having the latest version of every tech product I own.br /br /For that reason, I think the cheapest Kindle is an excellent choice.Read more</td>\n",
       "      <td>Kindle vs. Nook (updated)</td>\n",
       "      <td>Ron Cronovich</td>\n",
       "      <td>update november br br my review is now over a year old as is the kindle keyboard as amazon calls it now there are newer models the basic cheapie kindle and the kindle touch and of course the kindle fire quasi tablet br br each of these models is an excellent choice whichever one is right for you just depends on your preferences br br the e ink kindles are kindle keyboard this one kindle touch the newest flagship model and the basic kindle all of them have exactly the same display with the same sharp typeface and high contrast that reads like ink on paper with no eyestrain the kindle keyboard is the oldest of these models and i got one of the first ones when they came out in august br br i still absolutely love my kindle keyboard and use it almost every day i have read dozens of books on it i like the newer models they have some neat features but the experience of reading a book on them is no better or worse than on my year old kindle keyboard page turns are now smoother and faster on the newest kindles but the difference is not enough to make it worth the cost of upgrading in my opinion br br the touch screen interface of the kindle touch is pretty neat but unlike my ipad i only use my kindle to read books and reading books is just as nice on any of the current kindle models i don t consider the touch screen a must have feature and i m normally obsessed with having the latest version of every tech product i own br br for that reason i think the cheapest kindle is an excellent choice read more</td>\n",
       "      <td>[update, november, br, br, my, review, is, now, over, a, year, old, as, is, the, kindle, keyboard, as, amazon, calls, it, now, there, are, newer, models, the, basic, cheapie, kindle, and, the, kindle, touch, and, of, course, the, kindle, fire, quasi, tablet, br, br, each, of, these, models, is, an, excellent, choice, whichever, one, is, right, for, you, just, depends, on, your, preferences, br, br, the, e, ink, kindles, are, kindle, keyboard, this, one, kindle, touch, the, newest, flagship, model, and, the, basic, kindle, all, of, them, have, exactly, the, same, display, with, the, same, sharp, typeface, and, high, contrast, ...]</td>\n",
       "      <td>neg</td>\n",
       "      <td>pos</td>\n",
       "      <td>pos</td>\n",
       "    </tr>\n",
       "    <tr>\n",
       "      <th>7</th>\n",
       "      <td>NaN</td>\n",
       "      <td>I woke up to a nice surprise this morning: a new kindle as a gift. I have an iPad and a Kindle DX, but I guess someone heard my complaints of them being too heavy and difficult to do extended-reading on. Don't get me wrong, I absolutely love my iPad and DX, but this new generation of Kindle is perfect for reading outside and for long periods of time. The iPad gets completely washed out in sunlight and often irritates my eyes staring at it for more than a couple of hours. The DX was my go-to device for those extended/outdoor reading periods, but now I have a new friend for reading novels. Instead of a replacement, this one seems more like a companion to the other devices and is a different class. The iPad works great for web browsing, shopping, productivity, games, etc while the Kindle falls short in those areas. The Kindle works great for reading novels, where the iPad falls short. For those that love to do extended-reading of magazines, newspapers, research articles, etc, I find that the DX is the go-to device.br /br /Without a doubt, the size and weight of the new kindle is the biggest draw for me. It's smaller than the last edition by a significant margin. I've played around with the Kindle 2 and was impressed, but now looking at the size of the new Kindle, I'm blown away. It's the absolute perfect size. Smaller would be unmanageable and larger wouldn't feel nearly as good. This is a device that you can hold up, read, and just forget that it's there. Compared to other e-readers I've tried, it's much smaller and much lighter.br /br /One of my biggest complaints about the previous generation Kindles and the DX is the speed. It sometimes takes a while after you push next page' for it to actually change.Read more</td>\n",
       "      <td>Not the perfect do-it-all device, but very close to being the perfect e-reading device!</td>\n",
       "      <td>C. Tipton</td>\n",
       "      <td>i woke up to a nice surprise this morning a new kindle as a gift i have an ipad and a kindle dx but i guess someone heard my complaints of them being too heavy and difficult to do extended reading on don t get me wrong i absolutely love my ipad and dx but this new generation of kindle is perfect for reading outside and for long periods of time the ipad gets completely washed out in sunlight and often irritates my eyes staring at it for more than a couple of hours the dx was my go to device for those extended outdoor reading periods but now i have a new friend for reading novels instead of a replacement this one seems more like a companion to the other devices and is a different class the ipad works great for web browsing shopping productivity games etc while the kindle falls short in those areas the kindle works great for reading novels where the ipad falls short for those that love to do extended reading of magazines newspapers research articles etc i find that the dx is the go to device br br without a doubt the size and weight of the new kindle is the biggest draw for me it s smaller than the last edition by a significant margin i ve played around with the kindle and was impressed but now looking at the size of the new kindle i m blown away it s the absolute perfect size smaller would be unmanageable and larger wouldn t feel nearly as good this is a device that you can hold up read and just forget that it s there compared to other e readers i ve tried it s much smaller and much lighter br br one of my biggest complaints about the previous generation kindles and the dx is the speed it sometimes takes a while after you push next page for it to actually change read more</td>\n",
       "      <td>[i, woke, up, to, a, nice, surprise, this, morning, a, new, kindle, as, a, gift, i, have, an, ipad, and, a, kindle, dx, but, i, guess, someone, heard, my, complaints, of, them, being, too, heavy, and, difficult, to, do, extended, reading, on, don, t, get, me, wrong, i, absolutely, love, my, ipad, and, dx, but, this, new, generation, of, kindle, is, perfect, for, reading, outside, and, for, long, periods, of, time, the, ipad, gets, completely, washed, out, in, sunlight, and, often, irritates, my, eyes, staring, at, it, for, more, than, a, couple, of, hours, the, dx, was, my, go, to, ...]</td>\n",
       "      <td>neg</td>\n",
       "      <td>pos</td>\n",
       "      <td>pos</td>\n",
       "    </tr>\n",
       "    <tr>\n",
       "      <th>8</th>\n",
       "      <td>NaN</td>\n",
       "      <td>I use to hate to read but now that I have my Kindle and I can change the size of the font so this old lady can see the words better I love to read.</td>\n",
       "      <td>Great</td>\n",
       "      <td>D. Tatro</td>\n",
       "      <td>i use to hate to read but now that i have my kindle and i can change the size of the font so this old lady can see the words better i love to read</td>\n",
       "      <td>[i, use, to, hate, to, read, but, now, that, i, have, my, kindle, and, i, can, change, the, size, of, the, font, so, this, old, lady, can, see, the, words, better, i, love, to, read]</td>\n",
       "      <td>pos</td>\n",
       "      <td>pos</td>\n",
       "      <td>pos</td>\n",
       "    </tr>\n",
       "    <tr>\n",
       "      <th>9</th>\n",
       "      <td>NaN</td>\n",
       "      <td>All of them quit working. There's absolutely no way to revive them once that battery loses power If NOT charged immediately, if even just a few weeks go by, NO HOPE of ever using your Kindle again. A major flaw</td>\n",
       "      <td>I've had 3!</td>\n",
       "      <td>M. Lansford Kindle fave</td>\n",
       "      <td>all of them quit working there s absolutely no way to revive them once that battery loses power if not charged immediately if even just a few weeks go by no hope of ever using your kindle again a major flaw</td>\n",
       "      <td>[all, of, them, quit, working, there, s, absolutely, no, way, to, revive, them, once, that, battery, loses, power, if, not, charged, immediately, if, even, just, a, few, weeks, go, by, no, hope, of, ever, using, your, kindle, again, a, major, flaw]</td>\n",
       "      <td>neg</td>\n",
       "      <td>pos</td>\n",
       "      <td>pos</td>\n",
       "    </tr>\n",
       "  </tbody>\n",
       "</table>\n",
       "</div>"
      ],
      "text/plain": [
       "   rating  \\\n",
       "0 NaN       \n",
       "1 NaN       \n",
       "2 NaN       \n",
       "3 NaN       \n",
       "4 NaN       \n",
       "5 NaN       \n",
       "6 NaN       \n",
       "7 NaN       \n",
       "8 NaN       \n",
       "9 NaN       \n",
       "\n",
       "                                                                                                                                                                                                                                                                                                                                                                                                                                                                                                                                                                                                                                                                                                                                                                                                                                                                                                                                                                                                                                                                                                                                                                                                                                                                                                                                                                                                                                                                                                                                                                                                                                                                                                                                                                                                            text  \\\n",
       "0  The Kindle is my first e-ink reader. I own an iPad, an iPhone, and have owned a Windows-based phone in the past that I used as an ereader.My overall impression of the device is good.The good:I'd honestly rather read linear (read from page one to the end, one page at a time) fiction from it than a book, because I can't always get comfortable with a book. Hardcovers are sometimes a bit heavy, and paperbacks don't always lie open easily. The Kindle is incredibly light and thin. I can hold it in one hand easily. The page turn buttons are conveniently located. Page-turns aren't instant, but they're probably quicker than turning a physical page in a printed book (there are just a lot more page-turns unless you choose a small font). The contrast is better than other ereaders I've seen. There is zero eye strain in good light. My eyesight isn't the greatest and I like being able to increase the font size and read without glasses. I love being able to browse the Kindle store and read samples before deciding to purchase. The experimental browser is surprisingly usable, but isn't great. It is useful for browsing wikipedia and blogs. The biggest drawback to the browser is the awkward pointer navigation, using the 5-way pad. It syncs your furthest read page over the internet so you can pick up where you left off using your iPhone or iPad.The so-so:The kindle store could use more categories and sorting options. You can't sort by top rated, and there is no category for alternate histories, for example. Finding a very-specific type of fiction relies on keyword searches, which don't do a great job. The wifi sometimes doesn't connect before it times-out.Read more                                                                        \n",
       "1  I'm a first-time Kindle owner, so I have nothing to compare the latest Kindle to. I don't own a Nook. I don't own an iPad (and, in any case, that's comparing apples to oranges). I don't have a Sony e-reader. 'This will be a short, simple review.I received my Kindle about a week ago and haven't been able to put it down.Things I like about my Kindle1. The e-ink display is amazing.2. Using the 5-way controller is simple and effective.3. Page turn speeds are faster than I thought they would be.4. It's lightweight, even with the attached cover (I have an Amazon cover with a built-in light)5. Page-turning buttons are quiet and well-placed.6. Recharge time is fast.7. I can order a book and start reading it in less than 60 seconds. Nice!8. Portability... I can take 3,000 books with me when I travel for work and not require additional suitcases or baggage fees.Things I'm not too keen on1. Buttons are too close together and are laid out oddly.2. Lack of individual number buttons is frustrating.3. Power button on the bottom Not a bad thing. Just an odd thing. (Same for the headphone input). I usually rest the bottom of a book on my lap when I read.Things I hope change in the future1. How books are organized... When I put a book in a collection (which is actually a tag), it still appears in the main list. It's not actually moved, it's merely associated.2. The look of the main screen. I'd like folders or some other way to display collections.3. Ability to create personal screen savers.4. E-book pricing, though Amazon has little control over this.Read more                                                                                                                                                                                \n",
       "2  UPDATE NOVEMBER 2011:My review is now over a year old, as is the Kindle Keyboard as Amazon calls it now. There are newer models: the basic, cheapie Kindle and the Kindle Touch, and of course the Kindle Fire quasi-tablet.Each of these models is an excellent choice. Whichever one is right for you just depends on your preferences.The 3 e-ink Kindles are Kindle Keyboard (this one), Kindle Touch (the newest flagship model), and the basic Kindle. All 3 of them have EXACTLY THE SAME 6 DISPLAY, with the same sharp typeface and high contrast that reads like ink on paper with no eyestrain. The Kindle Keyboard is the oldest of these models, and I got one of the first ones when they came out in August 2010.I still absolutely LOVE my Kindle Keyboard and use it almost every day. I have read dozens of books on it. I like the newer models, they have some neat features, but the experience of reading a book on them is no better or worse than on my 1-year-old Kindle Keyboard. Page turns are now smoother and faster on the newest Kindles, but the difference is not enough to make it worth the cost of upgrading, in my opinion.The touch-screen interface of the Kindle Touch is pretty neat. But, unlike my iPad, I only use my Kindle to read books, and reading books is just as nice on any of the current Kindle models. I don't consider the touch screen a must have feature, and I'm normally obsessed with having the latest version of every tech product I own.For that reason, I think the cheapest Kindle is an excellent choice.Read more                                                                                                                                                                                                                       \n",
       "3  I'm a first-time Kindle owner, so I have nothing to compare the latest Kindle to. I don't own a Nook. I don't own an iPad (and, in any case, that's comparing apples to oranges). I don't have a Sony e-reader. 'This will be a short, simple review.I received my Kindle about a week ago and haven't been able to put it down.Things I like about my Kindle1. The e-ink display is amazing.2. Using the 5-way controller is simple and effective.3. Page turn speeds are faster than I thought they would be.4. It's lightweight, even with the attached cover (I have an Amazon cover with a built-in light)5. Page-turning buttons are quiet and well-placed.6. Recharge time is fast.7. I can order a book and start reading it in less than 60 seconds. Nice!8. Portability... I can take 3,000 books with me when I travel for work and not require additional suitcases or baggage fees.Things I'm not too keen on1. Buttons are too close together and are laid out oddly.2. Lack of individual number buttons is frustrating.3. Power button on the bottom Not a bad thing. Just an odd thing. (Same for the headphone input). I usually rest the bottom of a book on my lap when I read.Things I hope change in the future1. How books are organized... When I put a book in a collection (which is actually a tag), it still appears in the main list. It's not actually moved, it's merely associated.2. The look of the main screen. I'd like folders or some other way to display collections.3. Ability to create personal screen savers.4. E-book pricing, though Amazon has little control over this. Still, most titles are the same price as or less than their hardback/paperback counterparts.Read more                                                                                   \n",
       "4  I woke up to a nice surprise this morning: a new kindle as a gift. I have an iPad and a Kindle DX, but I guess someone heard my complaints of them being too heavy and difficult to do extended-reading on. Don't get me wrong, I absolutely love my iPad and DX, but this new generation of Kindle is perfect for reading outside and for long periods of time. The iPad gets completely washed out in sunlight and often irritates my eyes staring at it for more than a couple of hours. The DX was my go-to device for those extended/outdoor reading periods, but now I have a new friend for reading novels. Instead of a replacement, this one seems more like a companion to the other devices and is a different class. The iPad works great for web browsing, shopping, productivity, games, etc while the Kindle falls short in those areas. The Kindle works great for reading novels, where the iPad falls short. For those that love to do extended-reading of magazines, newspapers, research articles, etc, I find that the DX is the go-to device.Without a doubt, the size and weight of the new kindle is the biggest draw for me. It's smaller than the last edition by a significant margin. I've played around with the Kindle 2 and was impressed, but now looking at the size of the new Kindle, I'm blown away. It's the absolute perfect size. Smaller would be unmanageable and larger wouldn't feel nearly as good. This is a device that you can hold up, read, and just forget that it's there. Compared to other e-readers I've tried, it's much smaller and much lighter.One of my biggest complaints about the previous generation Kindles and the DX is the speed. It sometimes takes a while after you push next page' for it to actually change.Read more                   \n",
       "5  The Kindle is my first e-ink reader. I own an iPad, an iPhone, and have owned a Windows-based phone in the past that I used as an ereader.br /br /My overall impression of the device is good.br /br /The good:br /I'd honestly rather read linear (read from page one to the end, one page at a time) fiction from it than a book, because I can't always get comfortable with a book. Hardcovers are sometimes a bit heavy, and paperbacks don't always lie open easily. The Kindle is incredibly light and thin. I can hold it in one hand easily. The page turn buttons are conveniently located. Page-turns aren't instant, but they're probably quicker than turning a physical page in a printed book (there are just a lot more page-turns unless you choose a small font). The contrast is better than other ereaders I've seen. There is zero eye strain in good light. My eyesight isn't the greatest and I like being able to increase the font size and read without glasses. I love being able to browse the Kindle store and read samples before deciding to purchase. The experimental browser is surprisingly usable, but isn't great. It is useful for browsing wikipedia and blogs. The biggest drawback to the browser is the awkward pointer navigation, using the 5-way pad. It syncs your furthest read page over the internet so you can pick up where you left off using your iPhone or iPad.br /br /The so-so:br /The kindle store could use more categories and sorting options. You can't sort by top rated, and there is no category for alternate histories, for example. Finding a very-specific type of fiction relies on keyword searches, which don't do a great job. The wifi sometimes doesn't connect before it times-out.Read more                                        \n",
       "6  UPDATE NOVEMBER 2011:br /br /My review is now over a year old, as is the Kindle Keyboard as Amazon calls it now. There are newer models: the basic, cheapie Kindle and the Kindle Touch, and of course the Kindle Fire quasi-tablet.br /br /Each of these models is an excellent choice. Whichever one is right for you just depends on your preferences.br /br /The 3 e-ink Kindles are Kindle Keyboard (this one), Kindle Touch (the newest flagship model), and the basic Kindle. All 3 of them have EXACTLY THE SAME 6 DISPLAY, with the same sharp typeface and high contrast that reads like ink on paper with no eyestrain. The Kindle Keyboard is the oldest of these models, and I got one of the first ones when they came out in August 2010.br /br /I still absolutely LOVE my Kindle Keyboard and use it almost every day. I have read dozens of books on it. I like the newer models, they have some neat features, but the experience of reading a book on them is no better or worse than on my 1-year-old Kindle Keyboard. Page turns are now smoother and faster on the newest Kindles, but the difference is not enough to make it worth the cost of upgrading, in my opinion.br /br /The touch-screen interface of the Kindle Touch is pretty neat. But, unlike my iPad, I only use my Kindle to read books, and reading books is just as nice on any of the current Kindle models. I don't consider the touch screen a must have feature, and I'm normally obsessed with having the latest version of every tech product I own.br /br /For that reason, I think the cheapest Kindle is an excellent choice.Read more                                                                                                                                                                       \n",
       "7  I woke up to a nice surprise this morning: a new kindle as a gift. I have an iPad and a Kindle DX, but I guess someone heard my complaints of them being too heavy and difficult to do extended-reading on. Don't get me wrong, I absolutely love my iPad and DX, but this new generation of Kindle is perfect for reading outside and for long periods of time. The iPad gets completely washed out in sunlight and often irritates my eyes staring at it for more than a couple of hours. The DX was my go-to device for those extended/outdoor reading periods, but now I have a new friend for reading novels. Instead of a replacement, this one seems more like a companion to the other devices and is a different class. The iPad works great for web browsing, shopping, productivity, games, etc while the Kindle falls short in those areas. The Kindle works great for reading novels, where the iPad falls short. For those that love to do extended-reading of magazines, newspapers, research articles, etc, I find that the DX is the go-to device.br /br /Without a doubt, the size and weight of the new kindle is the biggest draw for me. It's smaller than the last edition by a significant margin. I've played around with the Kindle 2 and was impressed, but now looking at the size of the new Kindle, I'm blown away. It's the absolute perfect size. Smaller would be unmanageable and larger wouldn't feel nearly as good. This is a device that you can hold up, read, and just forget that it's there. Compared to other e-readers I've tried, it's much smaller and much lighter.br /br /One of my biggest complaints about the previous generation Kindles and the DX is the speed. It sometimes takes a while after you push next page' for it to actually change.Read more   \n",
       "8  I use to hate to read but now that I have my Kindle and I can change the size of the font so this old lady can see the words better I love to read.                                                                                                                                                                                                                                                                                                                                                                                                                                                                                                                                                                                                                                                                                                                                                                                                                                                                                                                                                                                                                                                                                                                                                                                                                                                                                                                                                                                                                                                                                                                                                                                                                                                             \n",
       "9  All of them quit working. There's absolutely no way to revive them once that battery loses power If NOT charged immediately, if even just a few weeks go by, NO HOPE of ever using your Kindle again. A major flaw                                                                                                                                                                                                                                                                                                                                                                                                                                                                                                                                                                                                                                                                                                                                                                                                                                                                                                                                                                                                                                                                                                                                                                                                                                                                                                                                                                                                                                                                                                                                                                                              \n",
       "\n",
       "                                                                                       title  \\\n",
       "0  Worth the money. Not perfect, but very very good for start to finish novels in good light   \n",
       "1  I Wanted a Dedicated E-Reader, and That's What I Got                                        \n",
       "2  Kindle vs. Nook (updated)                                                                   \n",
       "3  I Wanted a Dedicated E-Reader, and That's What I Got                                        \n",
       "4  Not the perfect do-it-all device, but very close to being the perfect e-reading device!     \n",
       "5  Worth the money. Not perfect, but very very good for start to finish novels in good light   \n",
       "6  Kindle vs. Nook (updated)                                                                   \n",
       "7  Not the perfect do-it-all device, but very close to being the perfect e-reading device!     \n",
       "8  Great                                                                                       \n",
       "9  I've had 3!                                                                                 \n",
       "\n",
       "                  username  \\\n",
       "0  Jeffrey Stanley           \n",
       "1  Matthew Coenen            \n",
       "2  Ron Cronovich             \n",
       "3  Matthew Coenen            \n",
       "4  C. Tipton                 \n",
       "5  Jeffrey Stanley           \n",
       "6  Ron Cronovich             \n",
       "7  C. Tipton                 \n",
       "8  D. Tatro                  \n",
       "9  M. Lansford Kindle fave   \n",
       "\n",
       "                                                                                                                                                                                                                                                                                                                                                                                                                                                                                                                                                                                                                                                                                                                                                                                                                                                                                                                                                                                                                                                                                                                                                                                                                                                                                                                                                                                                                                                                                                                                                                                                                                                                                                                                                        Summary_Clean  \\\n",
       "0  the kindle is my first e ink reader i own an ipad an iphone and have owned a windows based phone in the past that i used as an ereader my overall impression of the device is good the good i d honestly rather read linear read from page one to the end one page at a time fiction from it than a book because i can t always get comfortable with a book hardcovers are sometimes a bit heavy and paperbacks don t always lie open easily the kindle is incredibly light and thin i can hold it in one hand easily the page turn buttons are conveniently located page turns aren t instant but they re probably quicker than turning a physical page in a printed book there are just a lot more page turns unless you choose a small font the contrast is better than other ereaders i ve seen there is zero eye strain in good light my eyesight isn t the greatest and i like being able to increase the font size and read without glasses i love being able to browse the kindle store and read samples before deciding to purchase the experimental browser is surprisingly usable but isn t great it is useful for browsing wikipedia and blogs the biggest drawback to the browser is the awkward pointer navigation using the way pad it syncs your furthest read page over the internet so you can pick up where you left off using your iphone or ipad the so so the kindle store could use more categories and sorting options you can t sort by top rated and there is no category for alternate histories for example finding a very specific type of fiction relies on keyword searches which don t do a great job the wifi sometimes doesn t connect before it times out read more                                                               \n",
       "1  i m a first time kindle owner so i have nothing to compare the latest kindle to i don t own a nook i don t own an ipad and in any case that s comparing apples to oranges i don t have a sony e reader this will be a short simple review i received my kindle about a week ago and haven t been able to put it down things i like about my kindle the e ink display is amazing using the way controller is simple and effective page turn speeds are faster than i thought they would be it s lightweight even with the attached cover i have an amazon cover with a built in light page turning buttons are quiet and well placed recharge time is fast i can order a book and start reading it in less than seconds nice portability i can take books with me when i travel for work and not require additional suitcases or baggage fees things i m not too keen on buttons are too close together and are laid out oddly lack of individual number buttons is frustrating power button on the bottom not a bad thing just an odd thing same for the headphone input i usually rest the bottom of a book on my lap when i read things i hope change in the future how books are organized when i put a book in a collection which is actually a tag it still appears in the main list it s not actually moved it s merely associated the look of the main screen i d like folders or some other way to display collections ability to create personal screen savers e book pricing though amazon has little control over this read more                                                                                                                                                                                                                          \n",
       "2  update november my review is now over a year old as is the kindle keyboard as amazon calls it now there are newer models the basic cheapie kindle and the kindle touch and of course the kindle fire quasi tablet each of these models is an excellent choice whichever one is right for you just depends on your preferences the e ink kindles are kindle keyboard this one kindle touch the newest flagship model and the basic kindle all of them have exactly the same display with the same sharp typeface and high contrast that reads like ink on paper with no eyestrain the kindle keyboard is the oldest of these models and i got one of the first ones when they came out in august i still absolutely love my kindle keyboard and use it almost every day i have read dozens of books on it i like the newer models they have some neat features but the experience of reading a book on them is no better or worse than on my year old kindle keyboard page turns are now smoother and faster on the newest kindles but the difference is not enough to make it worth the cost of upgrading in my opinion the touch screen interface of the kindle touch is pretty neat but unlike my ipad i only use my kindle to read books and reading books is just as nice on any of the current kindle models i don t consider the touch screen a must have feature and i m normally obsessed with having the latest version of every tech product i own for that reason i think the cheapest kindle is an excellent choice read more                                                                                                                                                                                                                            \n",
       "3  i m a first time kindle owner so i have nothing to compare the latest kindle to i don t own a nook i don t own an ipad and in any case that s comparing apples to oranges i don t have a sony e reader this will be a short simple review i received my kindle about a week ago and haven t been able to put it down things i like about my kindle the e ink display is amazing using the way controller is simple and effective page turn speeds are faster than i thought they would be it s lightweight even with the attached cover i have an amazon cover with a built in light page turning buttons are quiet and well placed recharge time is fast i can order a book and start reading it in less than seconds nice portability i can take books with me when i travel for work and not require additional suitcases or baggage fees things i m not too keen on buttons are too close together and are laid out oddly lack of individual number buttons is frustrating power button on the bottom not a bad thing just an odd thing same for the headphone input i usually rest the bottom of a book on my lap when i read things i hope change in the future how books are organized when i put a book in a collection which is actually a tag it still appears in the main list it s not actually moved it s merely associated the look of the main screen i d like folders or some other way to display collections ability to create personal screen savers e book pricing though amazon has little control over this still most titles are the same price as or less than their hardback paperback counterparts read more                                                                                                                               \n",
       "4  i woke up to a nice surprise this morning a new kindle as a gift i have an ipad and a kindle dx but i guess someone heard my complaints of them being too heavy and difficult to do extended reading on don t get me wrong i absolutely love my ipad and dx but this new generation of kindle is perfect for reading outside and for long periods of time the ipad gets completely washed out in sunlight and often irritates my eyes staring at it for more than a couple of hours the dx was my go to device for those extended outdoor reading periods but now i have a new friend for reading novels instead of a replacement this one seems more like a companion to the other devices and is a different class the ipad works great for web browsing shopping productivity games etc while the kindle falls short in those areas the kindle works great for reading novels where the ipad falls short for those that love to do extended reading of magazines newspapers research articles etc i find that the dx is the go to device without a doubt the size and weight of the new kindle is the biggest draw for me it s smaller than the last edition by a significant margin i ve played around with the kindle and was impressed but now looking at the size of the new kindle i m blown away it s the absolute perfect size smaller would be unmanageable and larger wouldn t feel nearly as good this is a device that you can hold up read and just forget that it s there compared to other e readers i ve tried it s much smaller and much lighter one of my biggest complaints about the previous generation kindles and the dx is the speed it sometimes takes a while after you push next page for it to actually change read more               \n",
       "5  the kindle is my first e ink reader i own an ipad an iphone and have owned a windows based phone in the past that i used as an ereader br br my overall impression of the device is good br br the good br i d honestly rather read linear read from page one to the end one page at a time fiction from it than a book because i can t always get comfortable with a book hardcovers are sometimes a bit heavy and paperbacks don t always lie open easily the kindle is incredibly light and thin i can hold it in one hand easily the page turn buttons are conveniently located page turns aren t instant but they re probably quicker than turning a physical page in a printed book there are just a lot more page turns unless you choose a small font the contrast is better than other ereaders i ve seen there is zero eye strain in good light my eyesight isn t the greatest and i like being able to increase the font size and read without glasses i love being able to browse the kindle store and read samples before deciding to purchase the experimental browser is surprisingly usable but isn t great it is useful for browsing wikipedia and blogs the biggest drawback to the browser is the awkward pointer navigation using the way pad it syncs your furthest read page over the internet so you can pick up where you left off using your iphone or ipad br br the so so br the kindle store could use more categories and sorting options you can t sort by top rated and there is no category for alternate histories for example finding a very specific type of fiction relies on keyword searches which don t do a great job the wifi sometimes doesn t connect before it times out read more                                       \n",
       "6  update november br br my review is now over a year old as is the kindle keyboard as amazon calls it now there are newer models the basic cheapie kindle and the kindle touch and of course the kindle fire quasi tablet br br each of these models is an excellent choice whichever one is right for you just depends on your preferences br br the e ink kindles are kindle keyboard this one kindle touch the newest flagship model and the basic kindle all of them have exactly the same display with the same sharp typeface and high contrast that reads like ink on paper with no eyestrain the kindle keyboard is the oldest of these models and i got one of the first ones when they came out in august br br i still absolutely love my kindle keyboard and use it almost every day i have read dozens of books on it i like the newer models they have some neat features but the experience of reading a book on them is no better or worse than on my year old kindle keyboard page turns are now smoother and faster on the newest kindles but the difference is not enough to make it worth the cost of upgrading in my opinion br br the touch screen interface of the kindle touch is pretty neat but unlike my ipad i only use my kindle to read books and reading books is just as nice on any of the current kindle models i don t consider the touch screen a must have feature and i m normally obsessed with having the latest version of every tech product i own br br for that reason i think the cheapest kindle is an excellent choice read more                                                                                                                                                                                        \n",
       "7  i woke up to a nice surprise this morning a new kindle as a gift i have an ipad and a kindle dx but i guess someone heard my complaints of them being too heavy and difficult to do extended reading on don t get me wrong i absolutely love my ipad and dx but this new generation of kindle is perfect for reading outside and for long periods of time the ipad gets completely washed out in sunlight and often irritates my eyes staring at it for more than a couple of hours the dx was my go to device for those extended outdoor reading periods but now i have a new friend for reading novels instead of a replacement this one seems more like a companion to the other devices and is a different class the ipad works great for web browsing shopping productivity games etc while the kindle falls short in those areas the kindle works great for reading novels where the ipad falls short for those that love to do extended reading of magazines newspapers research articles etc i find that the dx is the go to device br br without a doubt the size and weight of the new kindle is the biggest draw for me it s smaller than the last edition by a significant margin i ve played around with the kindle and was impressed but now looking at the size of the new kindle i m blown away it s the absolute perfect size smaller would be unmanageable and larger wouldn t feel nearly as good this is a device that you can hold up read and just forget that it s there compared to other e readers i ve tried it s much smaller and much lighter br br one of my biggest complaints about the previous generation kindles and the dx is the speed it sometimes takes a while after you push next page for it to actually change read more   \n",
       "8  i use to hate to read but now that i have my kindle and i can change the size of the font so this old lady can see the words better i love to read                                                                                                                                                                                                                                                                                                                                                                                                                                                                                                                                                                                                                                                                                                                                                                                                                                                                                                                                                                                                                                                                                                                                                                                                                                                                                                                                                                                                                                                                                                                                                                                                                   \n",
       "9  all of them quit working there s absolutely no way to revive them once that battery loses power if not charged immediately if even just a few weeks go by no hope of ever using your kindle again a major flaw                                                                                                                                                                                                                                                                                                                                                                                                                                                                                                                                                                                                                                                                                                                                                                                                                                                                                                                                                                                                                                                                                                                                                                                                                                                                                                                                                                                                                                                                                                                                                       \n",
       "\n",
       "                                                                                                                                                                                                                                                                                                                                                                                                                                                                                                                                                                                                                                                                      words  \\\n",
       "0  [the, kindle, is, my, first, e, ink, reader, i, own, an, ipad, an, iphone, and, have, owned, a, windows, based, phone, in, the, past, that, i, used, as, an, ereader, my, overall, impression, of, the, device, is, good, the, good, i, d, honestly, rather, read, linear, read, from, page, one, to, the, end, one, page, at, a, time, fiction, from, it, than, a, book, because, i, can, t, always, get, comfortable, with, a, book, hardcovers, are, sometimes, a, bit, heavy, and, paperbacks, don, t, always, lie, open, easily, the, kindle, is, incredibly, light, and, thin, i, can, hold, it, in, ...]                                                            \n",
       "1  [i, m, a, first, time, kindle, owner, so, i, have, nothing, to, compare, the, latest, kindle, to, i, don, t, own, a, nook, i, don, t, own, an, ipad, and, in, any, case, that, s, comparing, apples, to, oranges, i, don, t, have, a, sony, e, reader, this, will, be, a, short, simple, review, i, received, my, kindle, about, a, week, ago, and, haven, t, been, able, to, put, it, down, things, i, like, about, my, kindle, the, e, ink, display, is, amazing, using, the, way, controller, is, simple, and, effective, page, turn, speeds, are, faster, than, i, thought, they, ...]                                                                                 \n",
       "2  [update, november, my, review, is, now, over, a, year, old, as, is, the, kindle, keyboard, as, amazon, calls, it, now, there, are, newer, models, the, basic, cheapie, kindle, and, the, kindle, touch, and, of, course, the, kindle, fire, quasi, tablet, each, of, these, models, is, an, excellent, choice, whichever, one, is, right, for, you, just, depends, on, your, preferences, the, e, ink, kindles, are, kindle, keyboard, this, one, kindle, touch, the, newest, flagship, model, and, the, basic, kindle, all, of, them, have, exactly, the, same, display, with, the, same, sharp, typeface, and, high, contrast, that, reads, like, ink, on, paper, ...]   \n",
       "3  [i, m, a, first, time, kindle, owner, so, i, have, nothing, to, compare, the, latest, kindle, to, i, don, t, own, a, nook, i, don, t, own, an, ipad, and, in, any, case, that, s, comparing, apples, to, oranges, i, don, t, have, a, sony, e, reader, this, will, be, a, short, simple, review, i, received, my, kindle, about, a, week, ago, and, haven, t, been, able, to, put, it, down, things, i, like, about, my, kindle, the, e, ink, display, is, amazing, using, the, way, controller, is, simple, and, effective, page, turn, speeds, are, faster, than, i, thought, they, ...]                                                                                 \n",
       "4  [i, woke, up, to, a, nice, surprise, this, morning, a, new, kindle, as, a, gift, i, have, an, ipad, and, a, kindle, dx, but, i, guess, someone, heard, my, complaints, of, them, being, too, heavy, and, difficult, to, do, extended, reading, on, don, t, get, me, wrong, i, absolutely, love, my, ipad, and, dx, but, this, new, generation, of, kindle, is, perfect, for, reading, outside, and, for, long, periods, of, time, the, ipad, gets, completely, washed, out, in, sunlight, and, often, irritates, my, eyes, staring, at, it, for, more, than, a, couple, of, hours, the, dx, was, my, go, to, ...]                                                          \n",
       "5  [the, kindle, is, my, first, e, ink, reader, i, own, an, ipad, an, iphone, and, have, owned, a, windows, based, phone, in, the, past, that, i, used, as, an, ereader, br, br, my, overall, impression, of, the, device, is, good, br, br, the, good, br, i, d, honestly, rather, read, linear, read, from, page, one, to, the, end, one, page, at, a, time, fiction, from, it, than, a, book, because, i, can, t, always, get, comfortable, with, a, book, hardcovers, are, sometimes, a, bit, heavy, and, paperbacks, don, t, always, lie, open, easily, the, kindle, is, incredibly, light, and, thin, ...]                                                              \n",
       "6  [update, november, br, br, my, review, is, now, over, a, year, old, as, is, the, kindle, keyboard, as, amazon, calls, it, now, there, are, newer, models, the, basic, cheapie, kindle, and, the, kindle, touch, and, of, course, the, kindle, fire, quasi, tablet, br, br, each, of, these, models, is, an, excellent, choice, whichever, one, is, right, for, you, just, depends, on, your, preferences, br, br, the, e, ink, kindles, are, kindle, keyboard, this, one, kindle, touch, the, newest, flagship, model, and, the, basic, kindle, all, of, them, have, exactly, the, same, display, with, the, same, sharp, typeface, and, high, contrast, ...]              \n",
       "7  [i, woke, up, to, a, nice, surprise, this, morning, a, new, kindle, as, a, gift, i, have, an, ipad, and, a, kindle, dx, but, i, guess, someone, heard, my, complaints, of, them, being, too, heavy, and, difficult, to, do, extended, reading, on, don, t, get, me, wrong, i, absolutely, love, my, ipad, and, dx, but, this, new, generation, of, kindle, is, perfect, for, reading, outside, and, for, long, periods, of, time, the, ipad, gets, completely, washed, out, in, sunlight, and, often, irritates, my, eyes, staring, at, it, for, more, than, a, couple, of, hours, the, dx, was, my, go, to, ...]                                                          \n",
       "8  [i, use, to, hate, to, read, but, now, that, i, have, my, kindle, and, i, can, change, the, size, of, the, font, so, this, old, lady, can, see, the, words, better, i, love, to, read]                                                                                                                                                                                                                                                                                                                                                                                                                                                                                     \n",
       "9  [all, of, them, quit, working, there, s, absolutely, no, way, to, revive, them, once, that, battery, loses, power, if, not, charged, immediately, if, even, just, a, few, weeks, go, by, no, hope, of, ever, using, your, kindle, again, a, major, flaw]                                                                                                                                                                                                                                                                                                                                                                                                                   \n",
       "\n",
       "  Naive multi  log  \n",
       "0  neg   pos   pos  \n",
       "1  neg   pos   pos  \n",
       "2  neg   pos   pos  \n",
       "3  neg   pos   pos  \n",
       "4  neg   pos   pos  \n",
       "5  neg   pos   pos  \n",
       "6  neg   pos   pos  \n",
       "7  neg   pos   pos  \n",
       "8  pos   pos   pos  \n",
       "9  neg   pos   pos  "
      ]
     },
     "execution_count": 70,
     "metadata": {},
     "output_type": "execute_result"
    }
   ],
   "source": [
    "check.head(10)"
   ]
  },
  {
   "cell_type": "code",
   "execution_count": null,
   "id": "e90c3930",
   "metadata": {},
   "outputs": [],
   "source": []
  }
 ],
 "metadata": {
  "kernelspec": {
   "display_name": "Python 3 (ipykernel)",
   "language": "python",
   "name": "python3"
  },
  "language_info": {
   "codemirror_mode": {
    "name": "ipython",
    "version": 3
   },
   "file_extension": ".py",
   "mimetype": "text/x-python",
   "name": "python",
   "nbconvert_exporter": "python",
   "pygments_lexer": "ipython3",
   "version": "3.9.7"
  }
 },
 "nbformat": 4,
 "nbformat_minor": 5
}
